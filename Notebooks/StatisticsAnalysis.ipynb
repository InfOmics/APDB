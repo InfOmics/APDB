{
 "cells": [
  {
   "cell_type": "code",
   "execution_count": 378,
   "metadata": {},
   "outputs": [],
   "source": [
    "import os\n",
    "import random\n",
    "from random import randint\n",
    "import numpy as np\n",
    "import pandas as pd\n",
    "import scipy as sc\n",
    "\n",
    "from gensim.models import Word2Vec\n",
    "import networkx as nx\n",
    "\n",
    "import plotly.express as px\n",
    "import plotly.graph_objects as go\n",
    "from plotly.subplots import make_subplots\n",
    "import ipywidgets as widgets\n",
    "\n",
    "# suppress all warnings\n",
    "import warnings\n",
    "warnings.filterwarnings(\"ignore\")\n",
    "\n",
    "SEED = 42\n",
    "os.environ[\"PYTHONHASHSEED\"] = str(SEED)\n",
    "# seed the global RNG \n",
    "random.seed(SEED)\n",
    "# seed the global NumPy RNG\n",
    "np.random.seed(SEED)"
   ]
  },
  {
   "cell_type": "code",
   "execution_count": 2,
   "metadata": {},
   "outputs": [],
   "source": [
    "# define models path name\n",
    "path = \"../Embedding_models/\"\n",
    "models = ['FPBitsEmbedding',\n",
    "        'FPCountsEmbedding',\n",
    "        'MolDescEmbedding',\n",
    "        'QuantumPropsEmbedding'] \n",
    "pnames = [path + p for p in models]"
   ]
  },
  {
   "cell_type": "code",
   "execution_count": 3,
   "metadata": {},
   "outputs": [],
   "source": [
    "def find_similar(data, threshold=0.9, similar=True):\n",
    "  \"\"\"\n",
    "  this function computes the most or least similar molecules given a similarity threshold\n",
    "  :param data: dataframe of molecules with cid as index\n",
    "  :param threshold: similarity value\n",
    "  :param similar: boolean indicating whether to return the most or least similar items\n",
    "  :param seed: seed for reproducibility \n",
    "  :return: list of similar molecules\n",
    "  \"\"\"\n",
    "  \n",
    "  # define sign function \n",
    "  if (similar):\n",
    "    def sign_func(x,y): return x > y\n",
    "  else: \n",
    "    def sign_func(x,y): return x < y\n",
    "  \n",
    "  top_similar = pd.DataFrame()\n",
    "  n=len(data)\n",
    "  # iterate over molecules\n",
    "  for molecule_id in data.index:\n",
    "      df_similar = pd.DataFrame()\n",
    "      # load embedding model\n",
    "      for PATH in pnames:\n",
    "        model = Word2Vec.load(PATH)\n",
    "        # check if key is present\n",
    "        try:\n",
    "          similar = [item for item in model.wv.most_similar(str(molecule_id), topn=n) if sign_func(item[1], threshold)]\n",
    "          df = pd.DataFrame(similar)     \n",
    "        except KeyError:  \n",
    "          continue\n",
    "        \n",
    "        # check if result is empty\n",
    "        if not(df.empty):\n",
    "          # set columns\n",
    "          df.columns=['similar_cid','measure']\n",
    "          # generate output dataframe\n",
    "          df_similar = pd.concat([df_similar, df])\n",
    "          # check if similar id is in input data \n",
    "          df_similar = df_similar[df_similar['similar_cid'].isin(data.index.astype(str))]  \n",
    "          # round similarity values\n",
    "          df_similar['measure'] = df_similar['measure'].round(3)\n",
    "      \n",
    "      # check if result is empty\n",
    "      if not(df_similar.empty):\n",
    "          out_df = pd.DataFrame()\n",
    "          # sort similar molecules by frequency\n",
    "          similar_freq = df_similar.groupby(['similar_cid'])['similar_cid'].count().reset_index(name='Count').sort_values(['Count'], ascending=False)\n",
    "          for i in range(len(similar_freq)):\n",
    "              # get info of most frequent molecules \n",
    "              tmp_df = df_similar.loc[df_similar['similar_cid'] == similar_freq['similar_cid'].iloc[i]]\n",
    "              tmp_df['orig_cid'] = molecule_id\n",
    "              out_df = pd.concat([out_df, tmp_df])\n",
    "          # generate output dataframe\n",
    "          top_similar = pd.concat([out_df, top_similar])\n",
    "\n",
    "  return top_similar\n",
    "    "
   ]
  },
  {
   "cell_type": "code",
   "execution_count": 4,
   "metadata": {},
   "outputs": [
    {
     "data": {
      "text/html": [
       "<div>\n",
       "<style scoped>\n",
       "    .dataframe tbody tr th:only-of-type {\n",
       "        vertical-align: middle;\n",
       "    }\n",
       "\n",
       "    .dataframe tbody tr th {\n",
       "        vertical-align: top;\n",
       "    }\n",
       "\n",
       "    .dataframe thead th {\n",
       "        text-align: right;\n",
       "    }\n",
       "</style>\n",
       "<table border=\"1\" class=\"dataframe\">\n",
       "  <thead>\n",
       "    <tr style=\"text-align: right;\">\n",
       "      <th></th>\n",
       "      <th>Chemical_Name</th>\n",
       "      <th>Molecule_CID</th>\n",
       "      <th>Target_GI</th>\n",
       "      <th>Target_GeneID</th>\n",
       "      <th>Target_Symbol</th>\n",
       "      <th>UniProtKB</th>\n",
       "      <th>PDB</th>\n",
       "      <th>Resolution</th>\n",
       "    </tr>\n",
       "    <tr>\n",
       "      <th>APDB_idx</th>\n",
       "      <th></th>\n",
       "      <th></th>\n",
       "      <th></th>\n",
       "      <th></th>\n",
       "      <th></th>\n",
       "      <th></th>\n",
       "      <th></th>\n",
       "      <th></th>\n",
       "    </tr>\n",
       "  </thead>\n",
       "  <tbody>\n",
       "    <tr>\n",
       "      <th>T.1</th>\n",
       "      <td>1,2,4-Trichlorobenzene</td>\n",
       "      <td>13</td>\n",
       "      <td>325495497.0</td>\n",
       "      <td>6256</td>\n",
       "      <td>RXRA</td>\n",
       "      <td>Q6P3U7</td>\n",
       "      <td>NaN</td>\n",
       "      <td>NaN</td>\n",
       "    </tr>\n",
       "    <tr>\n",
       "      <th>T.2</th>\n",
       "      <td>1,2,4-Trichlorobenzene</td>\n",
       "      <td>13</td>\n",
       "      <td>325495463.0</td>\n",
       "      <td>5914</td>\n",
       "      <td>RARA</td>\n",
       "      <td>P10276</td>\n",
       "      <td>1DSZ</td>\n",
       "      <td>1.7</td>\n",
       "    </tr>\n",
       "    <tr>\n",
       "      <th>T.3</th>\n",
       "      <td>1,2,4-Trichlorobenzene</td>\n",
       "      <td>13</td>\n",
       "      <td>119601739.0</td>\n",
       "      <td>7253</td>\n",
       "      <td>TSHR</td>\n",
       "      <td>A0A0A0MTJ0</td>\n",
       "      <td>NaN</td>\n",
       "      <td>NaN</td>\n",
       "    </tr>\n",
       "    <tr>\n",
       "      <th>T.4</th>\n",
       "      <td>1,2,4-Trichlorobenzene</td>\n",
       "      <td>13</td>\n",
       "      <td>54288833.0</td>\n",
       "      <td>2100</td>\n",
       "      <td>ESR2</td>\n",
       "      <td>F1D8N3</td>\n",
       "      <td>NaN</td>\n",
       "      <td>NaN</td>\n",
       "    </tr>\n",
       "    <tr>\n",
       "      <th>T.5</th>\n",
       "      <td>1,2,4-Trichlorobenzene</td>\n",
       "      <td>13</td>\n",
       "      <td>348019627.0</td>\n",
       "      <td>2099</td>\n",
       "      <td>ESR1</td>\n",
       "      <td>G4XH65</td>\n",
       "      <td>NaN</td>\n",
       "      <td>NaN</td>\n",
       "    </tr>\n",
       "  </tbody>\n",
       "</table>\n",
       "</div>"
      ],
      "text/plain": [
       "                   Chemical_Name  Molecule_CID    Target_GI  Target_GeneID  \\\n",
       "APDB_idx                                                                     \n",
       "T.1       1,2,4-Trichlorobenzene            13  325495497.0           6256   \n",
       "T.2       1,2,4-Trichlorobenzene            13  325495463.0           5914   \n",
       "T.3       1,2,4-Trichlorobenzene            13  119601739.0           7253   \n",
       "T.4       1,2,4-Trichlorobenzene            13   54288833.0           2100   \n",
       "T.5       1,2,4-Trichlorobenzene            13  348019627.0           2099   \n",
       "\n",
       "         Target_Symbol   UniProtKB   PDB  Resolution  \n",
       "APDB_idx                                              \n",
       "T.1               RXRA      Q6P3U7   NaN         NaN  \n",
       "T.2               RARA      P10276  1DSZ         1.7  \n",
       "T.3               TSHR  A0A0A0MTJ0   NaN         NaN  \n",
       "T.4               ESR2      F1D8N3   NaN         NaN  \n",
       "T.5               ESR1      G4XH65   NaN         NaN  "
      ]
     },
     "execution_count": 4,
     "metadata": {},
     "output_type": "execute_result"
    }
   ],
   "source": [
    "# load targets table \n",
    "targets = pd.read_csv('../Flask/psql_db/Tables/TargetsTable.csv', encoding='latin1', index_col=0)\n",
    "targets.head()"
   ]
  },
  {
   "cell_type": "code",
   "execution_count": 6,
   "metadata": {},
   "outputs": [
    {
     "data": {
      "text/plain": [
       "False"
      ]
     },
     "execution_count": 6,
     "metadata": {},
     "output_type": "execute_result"
    }
   ],
   "source": [
    "# check if there are null symbols\n",
    "targets.Target_Symbol.isnull().values.any()"
   ]
  },
  {
   "cell_type": "code",
   "execution_count": 7,
   "metadata": {},
   "outputs": [
    {
     "data": {
      "text/html": [
       "<div>\n",
       "<style scoped>\n",
       "    .dataframe tbody tr th:only-of-type {\n",
       "        vertical-align: middle;\n",
       "    }\n",
       "\n",
       "    .dataframe tbody tr th {\n",
       "        vertical-align: top;\n",
       "    }\n",
       "\n",
       "    .dataframe thead th {\n",
       "        text-align: right;\n",
       "    }\n",
       "</style>\n",
       "<table border=\"1\" class=\"dataframe\">\n",
       "  <thead>\n",
       "    <tr style=\"text-align: right;\">\n",
       "      <th></th>\n",
       "      <th>Molecule_CID</th>\n",
       "      <th>Target_Symbol</th>\n",
       "      <th>#Targets</th>\n",
       "    </tr>\n",
       "  </thead>\n",
       "  <tbody>\n",
       "    <tr>\n",
       "      <th>0</th>\n",
       "      <td>7245</td>\n",
       "      <td>[ESR1]</td>\n",
       "      <td>1</td>\n",
       "    </tr>\n",
       "    <tr>\n",
       "      <th>1</th>\n",
       "      <td>6416</td>\n",
       "      <td>[CYP1A2]</td>\n",
       "      <td>1</td>\n",
       "    </tr>\n",
       "    <tr>\n",
       "      <th>2</th>\n",
       "      <td>6419</td>\n",
       "      <td>[CYP1A2]</td>\n",
       "      <td>1</td>\n",
       "    </tr>\n",
       "    <tr>\n",
       "      <th>3</th>\n",
       "      <td>7962</td>\n",
       "      <td>[CYP1A2]</td>\n",
       "      <td>1</td>\n",
       "    </tr>\n",
       "    <tr>\n",
       "      <th>4</th>\n",
       "      <td>6495</td>\n",
       "      <td>[CYP2C19]</td>\n",
       "      <td>1</td>\n",
       "    </tr>\n",
       "    <tr>\n",
       "      <th>...</th>\n",
       "      <td>...</td>\n",
       "      <td>...</td>\n",
       "      <td>...</td>\n",
       "    </tr>\n",
       "    <tr>\n",
       "      <th>532</th>\n",
       "      <td>6001</td>\n",
       "      <td>[HIF1A, APLNR, NLRP3, MDM4, MDM2, OPRD1, OPRM1...</td>\n",
       "      <td>38</td>\n",
       "    </tr>\n",
       "    <tr>\n",
       "      <th>533</th>\n",
       "      <td>289</td>\n",
       "      <td>[HSP90AA1, HSP90AB1, ALOX15, HPGD, HIF1A, ALDH...</td>\n",
       "      <td>40</td>\n",
       "    </tr>\n",
       "    <tr>\n",
       "      <th>534</th>\n",
       "      <td>17520</td>\n",
       "      <td>[MAPT, S1PR4, KCNJ1, CACNA1B, KCNQ1, KAT2A, BA...</td>\n",
       "      <td>43</td>\n",
       "    </tr>\n",
       "    <tr>\n",
       "      <th>535</th>\n",
       "      <td>33528</td>\n",
       "      <td>[CYP3A4, HCRTR1, MDM4, MDM2, CCR6, VDR, HSP90A...</td>\n",
       "      <td>48</td>\n",
       "    </tr>\n",
       "    <tr>\n",
       "      <th>536</th>\n",
       "      <td>5455</td>\n",
       "      <td>[NFKBIA, RGS12, GNAI1, CYP3A4, HPGD, ALDH1A1, ...</td>\n",
       "      <td>72</td>\n",
       "    </tr>\n",
       "  </tbody>\n",
       "</table>\n",
       "<p>537 rows × 3 columns</p>\n",
       "</div>"
      ],
      "text/plain": [
       "     Molecule_CID                                      Target_Symbol  #Targets\n",
       "0            7245                                             [ESR1]         1\n",
       "1            6416                                           [CYP1A2]         1\n",
       "2            6419                                           [CYP1A2]         1\n",
       "3            7962                                           [CYP1A2]         1\n",
       "4            6495                                          [CYP2C19]         1\n",
       "..            ...                                                ...       ...\n",
       "532          6001  [HIF1A, APLNR, NLRP3, MDM4, MDM2, OPRD1, OPRM1...        38\n",
       "533           289  [HSP90AA1, HSP90AB1, ALOX15, HPGD, HIF1A, ALDH...        40\n",
       "534         17520  [MAPT, S1PR4, KCNJ1, CACNA1B, KCNQ1, KAT2A, BA...        43\n",
       "535         33528  [CYP3A4, HCRTR1, MDM4, MDM2, CCR6, VDR, HSP90A...        48\n",
       "536          5455  [NFKBIA, RGS12, GNAI1, CYP3A4, HPGD, ALDH1A1, ...        72\n",
       "\n",
       "[537 rows x 3 columns]"
      ]
     },
     "execution_count": 7,
     "metadata": {},
     "output_type": "execute_result"
    }
   ],
   "source": [
    "# get list and count of targets for each molecule\n",
    "mol_targets = targets.groupby('Molecule_CID')['Target_Symbol'].apply(list).reset_index(name='Target_Symbol')\n",
    "mol_targets['#Targets'] = targets.groupby('Molecule_CID')['Target_Symbol'].apply(len).values\n",
    "# sort values \n",
    "mol_targets.sort_values(by=['#Targets'], inplace=True)\n",
    "mol_targets.reset_index(drop=True, inplace=True)\n",
    "mol_targets"
   ]
  },
  {
   "cell_type": "code",
   "execution_count": 8,
   "metadata": {},
   "outputs": [
    {
     "data": {
      "text/html": [
       "<div>\n",
       "<style scoped>\n",
       "    .dataframe tbody tr th:only-of-type {\n",
       "        vertical-align: middle;\n",
       "    }\n",
       "\n",
       "    .dataframe tbody tr th {\n",
       "        vertical-align: top;\n",
       "    }\n",
       "\n",
       "    .dataframe thead th {\n",
       "        text-align: right;\n",
       "    }\n",
       "</style>\n",
       "<table border=\"1\" class=\"dataframe\">\n",
       "  <thead>\n",
       "    <tr style=\"text-align: right;\">\n",
       "      <th></th>\n",
       "      <th>Chemical_Name</th>\n",
       "      <th>CID</th>\n",
       "      <th>CAS</th>\n",
       "      <th>InChIKey</th>\n",
       "      <th>Canonical_SMILES</th>\n",
       "      <th>Molecular_Formula</th>\n",
       "      <th>Atoms</th>\n",
       "      <th>Molecule_Type</th>\n",
       "    </tr>\n",
       "  </thead>\n",
       "  <tbody>\n",
       "    <tr>\n",
       "      <th>0</th>\n",
       "      <td>(1-methylpropyl)benzene</td>\n",
       "      <td>8680</td>\n",
       "      <td>135-98-8</td>\n",
       "      <td>ZJMWRROPUADPEA-UHFFFAOYSA-N</td>\n",
       "      <td>CCC(C)C1=CC=CC=C1</td>\n",
       "      <td>C10H14</td>\n",
       "      <td>[C]</td>\n",
       "      <td>organic</td>\n",
       "    </tr>\n",
       "    <tr>\n",
       "      <th>1</th>\n",
       "      <td>(2-methylbutyl)cyclohexane</td>\n",
       "      <td>143127</td>\n",
       "      <td>54105-77-0</td>\n",
       "      <td>DDQXBDLAGHZBMP-UHFFFAOYSA-N</td>\n",
       "      <td>CCC(C)CC1CCCCC1</td>\n",
       "      <td>C11H22</td>\n",
       "      <td>[C]</td>\n",
       "      <td>organic</td>\n",
       "    </tr>\n",
       "    <tr>\n",
       "      <th>2</th>\n",
       "      <td>(2-methylpropyl)benzene</td>\n",
       "      <td>10870</td>\n",
       "      <td>538-93-2</td>\n",
       "      <td>KXUHSQYYJYAXGZ-UHFFFAOYSA-N</td>\n",
       "      <td>CC(C)CC1=CC=CC=C1</td>\n",
       "      <td>C10H14</td>\n",
       "      <td>[C]</td>\n",
       "      <td>organic</td>\n",
       "    </tr>\n",
       "    <tr>\n",
       "      <th>3</th>\n",
       "      <td>1,1,1-trichloroethane</td>\n",
       "      <td>6278</td>\n",
       "      <td>71-55-6</td>\n",
       "      <td>UOCLXMDMGBRAIB-UHFFFAOYSA-N</td>\n",
       "      <td>CC(Cl)(Cl)Cl</td>\n",
       "      <td>C2H3Cl3</td>\n",
       "      <td>[C, Cl]</td>\n",
       "      <td>organic</td>\n",
       "    </tr>\n",
       "    <tr>\n",
       "      <th>4</th>\n",
       "      <td>1,1,2,2-tetrachloroethane</td>\n",
       "      <td>6591</td>\n",
       "      <td>79-34-5</td>\n",
       "      <td>QPFMBZIOSGYJDE-UHFFFAOYSA-N</td>\n",
       "      <td>C(C(Cl)Cl)(Cl)Cl</td>\n",
       "      <td>C2H2Cl4</td>\n",
       "      <td>[C, Cl]</td>\n",
       "      <td>organic</td>\n",
       "    </tr>\n",
       "  </tbody>\n",
       "</table>\n",
       "</div>"
      ],
      "text/plain": [
       "                Chemical_Name     CID         CAS  \\\n",
       "0     (1-methylpropyl)benzene    8680    135-98-8   \n",
       "1  (2-methylbutyl)cyclohexane  143127  54105-77-0   \n",
       "2     (2-methylpropyl)benzene   10870    538-93-2   \n",
       "3       1,1,1-trichloroethane    6278     71-55-6   \n",
       "4   1,1,2,2-tetrachloroethane    6591     79-34-5   \n",
       "\n",
       "                      InChIKey   Canonical_SMILES Molecular_Formula    Atoms  \\\n",
       "0  ZJMWRROPUADPEA-UHFFFAOYSA-N  CCC(C)C1=CC=CC=C1            C10H14      [C]   \n",
       "1  DDQXBDLAGHZBMP-UHFFFAOYSA-N    CCC(C)CC1CCCCC1            C11H22      [C]   \n",
       "2  KXUHSQYYJYAXGZ-UHFFFAOYSA-N  CC(C)CC1=CC=CC=C1            C10H14      [C]   \n",
       "3  UOCLXMDMGBRAIB-UHFFFAOYSA-N       CC(Cl)(Cl)Cl           C2H3Cl3  [C, Cl]   \n",
       "4  QPFMBZIOSGYJDE-UHFFFAOYSA-N   C(C(Cl)Cl)(Cl)Cl           C2H2Cl4  [C, Cl]   \n",
       "\n",
       "  Molecule_Type  \n",
       "0       organic  \n",
       "1       organic  \n",
       "2       organic  \n",
       "3       organic  \n",
       "4       organic  "
      ]
     },
     "execution_count": 8,
     "metadata": {},
     "output_type": "execute_result"
    }
   ],
   "source": [
    "# load molecules table \n",
    "molecules = pd.read_csv('../Flask/psql_db/Tables/MoleculesTable.csv', encoding='latin1')\n",
    "molecules.head()"
   ]
  },
  {
   "cell_type": "code",
   "execution_count": 35,
   "metadata": {},
   "outputs": [
    {
     "data": {
      "application/vnd.plotly.v1+json": {
       "config": {
        "displaylogo": false,
        "plotlyServerURL": "https://plot.ly"
       },
       "data": [
        {
         "customdata": [
          [
           "organic"
          ],
          [
           "inorganic"
          ]
         ],
         "domain": {
          "x": [
           0,
           1
          ],
          "y": [
           0,
           1
          ]
         },
         "hole": 0.4,
         "hovertemplate": "Type=%{customdata[0]}<br>Total=%{value}<extra></extra>",
         "labels": [
          "organic",
          "inorganic"
         ],
         "legendgroup": "",
         "marker": {
          "colors": [
           "#636efa",
           "#EF553B"
          ]
         },
         "name": "",
         "showlegend": true,
         "type": "pie",
         "values": [
          1716,
          114
         ]
        }
       ],
       "layout": {
        "height": 400,
        "legend": {
         "tracegroupgap": 0
        },
        "template": {
         "data": {
          "bar": [
           {
            "error_x": {
             "color": "#2a3f5f"
            },
            "error_y": {
             "color": "#2a3f5f"
            },
            "marker": {
             "line": {
              "color": "#E5ECF6",
              "width": 0.5
             },
             "pattern": {
              "fillmode": "overlay",
              "size": 10,
              "solidity": 0.2
             }
            },
            "type": "bar"
           }
          ],
          "barpolar": [
           {
            "marker": {
             "line": {
              "color": "#E5ECF6",
              "width": 0.5
             },
             "pattern": {
              "fillmode": "overlay",
              "size": 10,
              "solidity": 0.2
             }
            },
            "type": "barpolar"
           }
          ],
          "carpet": [
           {
            "aaxis": {
             "endlinecolor": "#2a3f5f",
             "gridcolor": "white",
             "linecolor": "white",
             "minorgridcolor": "white",
             "startlinecolor": "#2a3f5f"
            },
            "baxis": {
             "endlinecolor": "#2a3f5f",
             "gridcolor": "white",
             "linecolor": "white",
             "minorgridcolor": "white",
             "startlinecolor": "#2a3f5f"
            },
            "type": "carpet"
           }
          ],
          "choropleth": [
           {
            "colorbar": {
             "outlinewidth": 0,
             "ticks": ""
            },
            "type": "choropleth"
           }
          ],
          "contour": [
           {
            "colorbar": {
             "outlinewidth": 0,
             "ticks": ""
            },
            "colorscale": [
             [
              0,
              "#0d0887"
             ],
             [
              0.1111111111111111,
              "#46039f"
             ],
             [
              0.2222222222222222,
              "#7201a8"
             ],
             [
              0.3333333333333333,
              "#9c179e"
             ],
             [
              0.4444444444444444,
              "#bd3786"
             ],
             [
              0.5555555555555556,
              "#d8576b"
             ],
             [
              0.6666666666666666,
              "#ed7953"
             ],
             [
              0.7777777777777778,
              "#fb9f3a"
             ],
             [
              0.8888888888888888,
              "#fdca26"
             ],
             [
              1,
              "#f0f921"
             ]
            ],
            "type": "contour"
           }
          ],
          "contourcarpet": [
           {
            "colorbar": {
             "outlinewidth": 0,
             "ticks": ""
            },
            "type": "contourcarpet"
           }
          ],
          "heatmap": [
           {
            "colorbar": {
             "outlinewidth": 0,
             "ticks": ""
            },
            "colorscale": [
             [
              0,
              "#0d0887"
             ],
             [
              0.1111111111111111,
              "#46039f"
             ],
             [
              0.2222222222222222,
              "#7201a8"
             ],
             [
              0.3333333333333333,
              "#9c179e"
             ],
             [
              0.4444444444444444,
              "#bd3786"
             ],
             [
              0.5555555555555556,
              "#d8576b"
             ],
             [
              0.6666666666666666,
              "#ed7953"
             ],
             [
              0.7777777777777778,
              "#fb9f3a"
             ],
             [
              0.8888888888888888,
              "#fdca26"
             ],
             [
              1,
              "#f0f921"
             ]
            ],
            "type": "heatmap"
           }
          ],
          "heatmapgl": [
           {
            "colorbar": {
             "outlinewidth": 0,
             "ticks": ""
            },
            "colorscale": [
             [
              0,
              "#0d0887"
             ],
             [
              0.1111111111111111,
              "#46039f"
             ],
             [
              0.2222222222222222,
              "#7201a8"
             ],
             [
              0.3333333333333333,
              "#9c179e"
             ],
             [
              0.4444444444444444,
              "#bd3786"
             ],
             [
              0.5555555555555556,
              "#d8576b"
             ],
             [
              0.6666666666666666,
              "#ed7953"
             ],
             [
              0.7777777777777778,
              "#fb9f3a"
             ],
             [
              0.8888888888888888,
              "#fdca26"
             ],
             [
              1,
              "#f0f921"
             ]
            ],
            "type": "heatmapgl"
           }
          ],
          "histogram": [
           {
            "marker": {
             "pattern": {
              "fillmode": "overlay",
              "size": 10,
              "solidity": 0.2
             }
            },
            "type": "histogram"
           }
          ],
          "histogram2d": [
           {
            "colorbar": {
             "outlinewidth": 0,
             "ticks": ""
            },
            "colorscale": [
             [
              0,
              "#0d0887"
             ],
             [
              0.1111111111111111,
              "#46039f"
             ],
             [
              0.2222222222222222,
              "#7201a8"
             ],
             [
              0.3333333333333333,
              "#9c179e"
             ],
             [
              0.4444444444444444,
              "#bd3786"
             ],
             [
              0.5555555555555556,
              "#d8576b"
             ],
             [
              0.6666666666666666,
              "#ed7953"
             ],
             [
              0.7777777777777778,
              "#fb9f3a"
             ],
             [
              0.8888888888888888,
              "#fdca26"
             ],
             [
              1,
              "#f0f921"
             ]
            ],
            "type": "histogram2d"
           }
          ],
          "histogram2dcontour": [
           {
            "colorbar": {
             "outlinewidth": 0,
             "ticks": ""
            },
            "colorscale": [
             [
              0,
              "#0d0887"
             ],
             [
              0.1111111111111111,
              "#46039f"
             ],
             [
              0.2222222222222222,
              "#7201a8"
             ],
             [
              0.3333333333333333,
              "#9c179e"
             ],
             [
              0.4444444444444444,
              "#bd3786"
             ],
             [
              0.5555555555555556,
              "#d8576b"
             ],
             [
              0.6666666666666666,
              "#ed7953"
             ],
             [
              0.7777777777777778,
              "#fb9f3a"
             ],
             [
              0.8888888888888888,
              "#fdca26"
             ],
             [
              1,
              "#f0f921"
             ]
            ],
            "type": "histogram2dcontour"
           }
          ],
          "mesh3d": [
           {
            "colorbar": {
             "outlinewidth": 0,
             "ticks": ""
            },
            "type": "mesh3d"
           }
          ],
          "parcoords": [
           {
            "line": {
             "colorbar": {
              "outlinewidth": 0,
              "ticks": ""
             }
            },
            "type": "parcoords"
           }
          ],
          "pie": [
           {
            "automargin": true,
            "type": "pie"
           }
          ],
          "scatter": [
           {
            "fillpattern": {
             "fillmode": "overlay",
             "size": 10,
             "solidity": 0.2
            },
            "type": "scatter"
           }
          ],
          "scatter3d": [
           {
            "line": {
             "colorbar": {
              "outlinewidth": 0,
              "ticks": ""
             }
            },
            "marker": {
             "colorbar": {
              "outlinewidth": 0,
              "ticks": ""
             }
            },
            "type": "scatter3d"
           }
          ],
          "scattercarpet": [
           {
            "marker": {
             "colorbar": {
              "outlinewidth": 0,
              "ticks": ""
             }
            },
            "type": "scattercarpet"
           }
          ],
          "scattergeo": [
           {
            "marker": {
             "colorbar": {
              "outlinewidth": 0,
              "ticks": ""
             }
            },
            "type": "scattergeo"
           }
          ],
          "scattergl": [
           {
            "marker": {
             "colorbar": {
              "outlinewidth": 0,
              "ticks": ""
             }
            },
            "type": "scattergl"
           }
          ],
          "scattermapbox": [
           {
            "marker": {
             "colorbar": {
              "outlinewidth": 0,
              "ticks": ""
             }
            },
            "type": "scattermapbox"
           }
          ],
          "scatterpolar": [
           {
            "marker": {
             "colorbar": {
              "outlinewidth": 0,
              "ticks": ""
             }
            },
            "type": "scatterpolar"
           }
          ],
          "scatterpolargl": [
           {
            "marker": {
             "colorbar": {
              "outlinewidth": 0,
              "ticks": ""
             }
            },
            "type": "scatterpolargl"
           }
          ],
          "scatterternary": [
           {
            "marker": {
             "colorbar": {
              "outlinewidth": 0,
              "ticks": ""
             }
            },
            "type": "scatterternary"
           }
          ],
          "surface": [
           {
            "colorbar": {
             "outlinewidth": 0,
             "ticks": ""
            },
            "colorscale": [
             [
              0,
              "#0d0887"
             ],
             [
              0.1111111111111111,
              "#46039f"
             ],
             [
              0.2222222222222222,
              "#7201a8"
             ],
             [
              0.3333333333333333,
              "#9c179e"
             ],
             [
              0.4444444444444444,
              "#bd3786"
             ],
             [
              0.5555555555555556,
              "#d8576b"
             ],
             [
              0.6666666666666666,
              "#ed7953"
             ],
             [
              0.7777777777777778,
              "#fb9f3a"
             ],
             [
              0.8888888888888888,
              "#fdca26"
             ],
             [
              1,
              "#f0f921"
             ]
            ],
            "type": "surface"
           }
          ],
          "table": [
           {
            "cells": {
             "fill": {
              "color": "#EBF0F8"
             },
             "line": {
              "color": "white"
             }
            },
            "header": {
             "fill": {
              "color": "#C8D4E3"
             },
             "line": {
              "color": "white"
             }
            },
            "type": "table"
           }
          ]
         },
         "layout": {
          "annotationdefaults": {
           "arrowcolor": "#2a3f5f",
           "arrowhead": 0,
           "arrowwidth": 1
          },
          "autotypenumbers": "strict",
          "coloraxis": {
           "colorbar": {
            "outlinewidth": 0,
            "ticks": ""
           }
          },
          "colorscale": {
           "diverging": [
            [
             0,
             "#8e0152"
            ],
            [
             0.1,
             "#c51b7d"
            ],
            [
             0.2,
             "#de77ae"
            ],
            [
             0.3,
             "#f1b6da"
            ],
            [
             0.4,
             "#fde0ef"
            ],
            [
             0.5,
             "#f7f7f7"
            ],
            [
             0.6,
             "#e6f5d0"
            ],
            [
             0.7,
             "#b8e186"
            ],
            [
             0.8,
             "#7fbc41"
            ],
            [
             0.9,
             "#4d9221"
            ],
            [
             1,
             "#276419"
            ]
           ],
           "sequential": [
            [
             0,
             "#0d0887"
            ],
            [
             0.1111111111111111,
             "#46039f"
            ],
            [
             0.2222222222222222,
             "#7201a8"
            ],
            [
             0.3333333333333333,
             "#9c179e"
            ],
            [
             0.4444444444444444,
             "#bd3786"
            ],
            [
             0.5555555555555556,
             "#d8576b"
            ],
            [
             0.6666666666666666,
             "#ed7953"
            ],
            [
             0.7777777777777778,
             "#fb9f3a"
            ],
            [
             0.8888888888888888,
             "#fdca26"
            ],
            [
             1,
             "#f0f921"
            ]
           ],
           "sequentialminus": [
            [
             0,
             "#0d0887"
            ],
            [
             0.1111111111111111,
             "#46039f"
            ],
            [
             0.2222222222222222,
             "#7201a8"
            ],
            [
             0.3333333333333333,
             "#9c179e"
            ],
            [
             0.4444444444444444,
             "#bd3786"
            ],
            [
             0.5555555555555556,
             "#d8576b"
            ],
            [
             0.6666666666666666,
             "#ed7953"
            ],
            [
             0.7777777777777778,
             "#fb9f3a"
            ],
            [
             0.8888888888888888,
             "#fdca26"
            ],
            [
             1,
             "#f0f921"
            ]
           ]
          },
          "colorway": [
           "#636efa",
           "#EF553B",
           "#00cc96",
           "#ab63fa",
           "#FFA15A",
           "#19d3f3",
           "#FF6692",
           "#B6E880",
           "#FF97FF",
           "#FECB52"
          ],
          "font": {
           "color": "#2a3f5f"
          },
          "geo": {
           "bgcolor": "white",
           "lakecolor": "white",
           "landcolor": "#E5ECF6",
           "showlakes": true,
           "showland": true,
           "subunitcolor": "white"
          },
          "hoverlabel": {
           "align": "left"
          },
          "hovermode": "closest",
          "mapbox": {
           "style": "light"
          },
          "paper_bgcolor": "white",
          "plot_bgcolor": "#E5ECF6",
          "polar": {
           "angularaxis": {
            "gridcolor": "white",
            "linecolor": "white",
            "ticks": ""
           },
           "bgcolor": "#E5ECF6",
           "radialaxis": {
            "gridcolor": "white",
            "linecolor": "white",
            "ticks": ""
           }
          },
          "scene": {
           "xaxis": {
            "backgroundcolor": "#E5ECF6",
            "gridcolor": "white",
            "gridwidth": 2,
            "linecolor": "white",
            "showbackground": true,
            "ticks": "",
            "zerolinecolor": "white"
           },
           "yaxis": {
            "backgroundcolor": "#E5ECF6",
            "gridcolor": "white",
            "gridwidth": 2,
            "linecolor": "white",
            "showbackground": true,
            "ticks": "",
            "zerolinecolor": "white"
           },
           "zaxis": {
            "backgroundcolor": "#E5ECF6",
            "gridcolor": "white",
            "gridwidth": 2,
            "linecolor": "white",
            "showbackground": true,
            "ticks": "",
            "zerolinecolor": "white"
           }
          },
          "shapedefaults": {
           "line": {
            "color": "#2a3f5f"
           }
          },
          "ternary": {
           "aaxis": {
            "gridcolor": "white",
            "linecolor": "white",
            "ticks": ""
           },
           "baxis": {
            "gridcolor": "white",
            "linecolor": "white",
            "ticks": ""
           },
           "bgcolor": "#E5ECF6",
           "caxis": {
            "gridcolor": "white",
            "linecolor": "white",
            "ticks": ""
           }
          },
          "title": {
           "x": 0.05
          },
          "xaxis": {
           "automargin": true,
           "gridcolor": "white",
           "linecolor": "white",
           "ticks": "",
           "title": {
            "standoff": 15
           },
           "zerolinecolor": "white",
           "zerolinewidth": 2
          },
          "yaxis": {
           "automargin": true,
           "gridcolor": "white",
           "linecolor": "white",
           "ticks": "",
           "title": {
            "standoff": 15
           },
           "zerolinecolor": "white",
           "zerolinewidth": 2
          }
         }
        },
        "title": {
         "font": {
          "size": 14
         },
         "text": "Molecule types",
         "x": 0.45
        },
        "width": 400
       }
      }
     },
     "metadata": {},
     "output_type": "display_data"
    }
   ],
   "source": [
    "# plot percentage of organic and inorganic molecules\n",
    "counts_type = pd.DataFrame({'Type': ['organic', 'inorganic'], \n",
    "                        'Total': [(molecules['Molecule_Type'] == \"organic\").sum(), (molecules['Molecule_Type'] == \"inorganic\").sum()]})\n",
    "# pie chart \n",
    "fig = px.pie(counts_type, values = 'Total', names = 'Type', title='Molecule types', hole=.4, color = 'Type', width=400, height=400)\n",
    "\n",
    "# update layout\n",
    "fig.update_layout(title_x=0.45, title_font_size=14)\n",
    "\n",
    "# save and show\n",
    "fig.write_html(\"../Flask/pollutants_db_app/static/img/molecule_type.html\", config={'displaylogo': False})\n",
    "fig.show(config={'displaylogo': False})"
   ]
  },
  {
   "cell_type": "code",
   "execution_count": 10,
   "metadata": {},
   "outputs": [
    {
     "data": {
      "text/html": [
       "<div>\n",
       "<style scoped>\n",
       "    .dataframe tbody tr th:only-of-type {\n",
       "        vertical-align: middle;\n",
       "    }\n",
       "\n",
       "    .dataframe tbody tr th {\n",
       "        vertical-align: top;\n",
       "    }\n",
       "\n",
       "    .dataframe thead th {\n",
       "        text-align: right;\n",
       "    }\n",
       "</style>\n",
       "<table border=\"1\" class=\"dataframe\">\n",
       "  <thead>\n",
       "    <tr style=\"text-align: right;\">\n",
       "      <th></th>\n",
       "      <th>Molecule_CID</th>\n",
       "      <th>Target_Symbol</th>\n",
       "      <th>#Targets</th>\n",
       "      <th>Chemical_Name</th>\n",
       "      <th>CAS</th>\n",
       "      <th>InChIKey</th>\n",
       "      <th>Canonical_SMILES</th>\n",
       "      <th>Molecular_Formula</th>\n",
       "      <th>Atoms</th>\n",
       "      <th>Molecule_Type</th>\n",
       "    </tr>\n",
       "    <tr>\n",
       "      <th>CID</th>\n",
       "      <th></th>\n",
       "      <th></th>\n",
       "      <th></th>\n",
       "      <th></th>\n",
       "      <th></th>\n",
       "      <th></th>\n",
       "      <th></th>\n",
       "      <th></th>\n",
       "      <th></th>\n",
       "      <th></th>\n",
       "    </tr>\n",
       "  </thead>\n",
       "  <tbody>\n",
       "    <tr>\n",
       "      <th>7245</th>\n",
       "      <td>7245</td>\n",
       "      <td>[ESR1]</td>\n",
       "      <td>1</td>\n",
       "      <td>2-Chlorophenol</td>\n",
       "      <td>95-57-8</td>\n",
       "      <td>ISPYQTSUDJAMAB-UHFFFAOYSA-N</td>\n",
       "      <td>C1=CC=C(C(=C1)O)Cl</td>\n",
       "      <td>C6H5ClO</td>\n",
       "      <td>[C, O, Cl]</td>\n",
       "      <td>organic</td>\n",
       "    </tr>\n",
       "    <tr>\n",
       "      <th>6416</th>\n",
       "      <td>6416</td>\n",
       "      <td>[CYP1A2]</td>\n",
       "      <td>1</td>\n",
       "      <td>2-Butanone, 3,3-dimethyl-</td>\n",
       "      <td>75-97-8</td>\n",
       "      <td>PJGSXYOJTGTZAV-UHFFFAOYSA-N</td>\n",
       "      <td>CC(=O)C(C)(C)C</td>\n",
       "      <td>C6H12O</td>\n",
       "      <td>[C, O]</td>\n",
       "      <td>organic</td>\n",
       "    </tr>\n",
       "    <tr>\n",
       "      <th>6419</th>\n",
       "      <td>6419</td>\n",
       "      <td>[CYP1A2]</td>\n",
       "      <td>1</td>\n",
       "      <td>Pentachloroethane</td>\n",
       "      <td>76-01-7</td>\n",
       "      <td>BNIXVQGCZULYKV-UHFFFAOYSA-N</td>\n",
       "      <td>C(C(Cl)(Cl)Cl)(Cl)Cl</td>\n",
       "      <td>C2HCl5</td>\n",
       "      <td>[C, Cl]</td>\n",
       "      <td>organic</td>\n",
       "    </tr>\n",
       "    <tr>\n",
       "      <th>7962</th>\n",
       "      <td>7962</td>\n",
       "      <td>[CYP1A2]</td>\n",
       "      <td>1</td>\n",
       "      <td>Methylcyclohexane</td>\n",
       "      <td>108-87-2</td>\n",
       "      <td>UAEPNZWRGJTJPN-UHFFFAOYSA-N</td>\n",
       "      <td>CC1CCCCC1</td>\n",
       "      <td>C7H14</td>\n",
       "      <td>[C]</td>\n",
       "      <td>organic</td>\n",
       "    </tr>\n",
       "    <tr>\n",
       "      <th>6495</th>\n",
       "      <td>6495</td>\n",
       "      <td>[CYP2C19]</td>\n",
       "      <td>1</td>\n",
       "      <td>Dimethoxypropane</td>\n",
       "      <td>77-76-9</td>\n",
       "      <td>HEWZVZIVELJPQZ-UHFFFAOYSA-N</td>\n",
       "      <td>CC(C)(OC)OC</td>\n",
       "      <td>C5H12O2</td>\n",
       "      <td>[C, O]</td>\n",
       "      <td>organic</td>\n",
       "    </tr>\n",
       "  </tbody>\n",
       "</table>\n",
       "</div>"
      ],
      "text/plain": [
       "      Molecule_CID Target_Symbol  #Targets              Chemical_Name  \\\n",
       "CID                                                                     \n",
       "7245          7245        [ESR1]         1             2-Chlorophenol   \n",
       "6416          6416      [CYP1A2]         1  2-Butanone, 3,3-dimethyl-   \n",
       "6419          6419      [CYP1A2]         1          Pentachloroethane   \n",
       "7962          7962      [CYP1A2]         1          Methylcyclohexane   \n",
       "6495          6495     [CYP2C19]         1           Dimethoxypropane   \n",
       "\n",
       "           CAS                     InChIKey      Canonical_SMILES  \\\n",
       "CID                                                                 \n",
       "7245   95-57-8  ISPYQTSUDJAMAB-UHFFFAOYSA-N    C1=CC=C(C(=C1)O)Cl   \n",
       "6416   75-97-8  PJGSXYOJTGTZAV-UHFFFAOYSA-N        CC(=O)C(C)(C)C   \n",
       "6419   76-01-7  BNIXVQGCZULYKV-UHFFFAOYSA-N  C(C(Cl)(Cl)Cl)(Cl)Cl   \n",
       "7962  108-87-2  UAEPNZWRGJTJPN-UHFFFAOYSA-N             CC1CCCCC1   \n",
       "6495   77-76-9  HEWZVZIVELJPQZ-UHFFFAOYSA-N           CC(C)(OC)OC   \n",
       "\n",
       "     Molecular_Formula       Atoms Molecule_Type  \n",
       "CID                                               \n",
       "7245           C6H5ClO  [C, O, Cl]       organic  \n",
       "6416            C6H12O      [C, O]       organic  \n",
       "6419            C2HCl5     [C, Cl]       organic  \n",
       "7962             C7H14         [C]       organic  \n",
       "6495           C5H12O2      [C, O]       organic  "
      ]
     },
     "execution_count": 10,
     "metadata": {},
     "output_type": "execute_result"
    }
   ],
   "source": [
    "# merge dataframes \n",
    "mol_targets = mol_targets.merge(molecules, how='inner', left_on='Molecule_CID', right_on='CID').set_index('CID') \n",
    "mol_targets.head()"
   ]
  },
  {
   "cell_type": "code",
   "execution_count": 42,
   "metadata": {},
   "outputs": [
    {
     "data": {
      "application/vnd.plotly.v1+json": {
       "config": {
        "displaylogo": false,
        "modeBarButtonsToRemove": [
         "logo",
         "zoomin",
         "zoomout",
         "zoom",
         "lasso",
         "pan",
         "autoscale",
         "select"
        ],
        "plotlyServerURL": "https://plot.ly",
        "responsive": true
       },
       "data": [
        {
         "alignmentgroup": "True",
         "bingroup": "x",
         "hovertemplate": "Molecule_Type=organic<br>#Targets=%{x}<br>count=%{y}<extra></extra>",
         "legendgroup": "organic",
         "marker": {
          "color": "#636efa",
          "pattern": {
           "shape": ""
          }
         },
         "name": "organic",
         "offsetgroup": "organic",
         "orientation": "v",
         "showlegend": true,
         "type": "histogram",
         "x": [
          1,
          1,
          1,
          1,
          1,
          1,
          1,
          1,
          1,
          1,
          1,
          1,
          1,
          1,
          1,
          1,
          1,
          1,
          1,
          1,
          1,
          1,
          1,
          1,
          1,
          1,
          1,
          1,
          1,
          1,
          1,
          1,
          1,
          1,
          1,
          1,
          1,
          1,
          1,
          1,
          1,
          1,
          1,
          1,
          1,
          1,
          1,
          1,
          1,
          1,
          1,
          1,
          1,
          1,
          1,
          1,
          1,
          1,
          1,
          1,
          1,
          1,
          1,
          1,
          1,
          1,
          1,
          1,
          1,
          1,
          1,
          1,
          1,
          1,
          1,
          1,
          1,
          1,
          1,
          1,
          1,
          1,
          1,
          1,
          1,
          1,
          1,
          1,
          1,
          1,
          1,
          1,
          1,
          1,
          1,
          1,
          1,
          1,
          1,
          1,
          1,
          1,
          1,
          1,
          1,
          1,
          1,
          1,
          1,
          1,
          1,
          1,
          1,
          1,
          1,
          1,
          1,
          1,
          1,
          1,
          1,
          1,
          1,
          1,
          1,
          1,
          1,
          1,
          1,
          1,
          1,
          1,
          1,
          1,
          1,
          1,
          1,
          1,
          1,
          1,
          1,
          1,
          1,
          1,
          1,
          1,
          1,
          1,
          1,
          1,
          1,
          1,
          1,
          1,
          1,
          1,
          1,
          1,
          1,
          1,
          1,
          1,
          1,
          1,
          1,
          1,
          1,
          1,
          1,
          1,
          2,
          2,
          2,
          2,
          2,
          2,
          2,
          2,
          2,
          2,
          2,
          2,
          2,
          2,
          2,
          2,
          2,
          2,
          2,
          2,
          2,
          2,
          2,
          2,
          2,
          2,
          2,
          2,
          2,
          2,
          2,
          2,
          2,
          2,
          2,
          2,
          2,
          2,
          2,
          2,
          2,
          2,
          2,
          2,
          2,
          2,
          2,
          2,
          2,
          2,
          2,
          2,
          2,
          2,
          2,
          2,
          2,
          2,
          2,
          2,
          2,
          2,
          2,
          2,
          2,
          2,
          2,
          2,
          2,
          2,
          2,
          2,
          2,
          2,
          2,
          2,
          2,
          2,
          2,
          2,
          2,
          2,
          3,
          3,
          3,
          3,
          3,
          3,
          3,
          3,
          3,
          3,
          3,
          3,
          3,
          3,
          3,
          3,
          3,
          3,
          3,
          3,
          3,
          3,
          3,
          3,
          3,
          3,
          3,
          3,
          3,
          3,
          3,
          3,
          3,
          3,
          3,
          3,
          3,
          3,
          3,
          3,
          3,
          3,
          3,
          3,
          3,
          3,
          4,
          4,
          4,
          4,
          4,
          4,
          4,
          4,
          4,
          4,
          4,
          4,
          4,
          4,
          4,
          4,
          4,
          4,
          4,
          4,
          4,
          4,
          4,
          4,
          4,
          4,
          4,
          4,
          5,
          5,
          5,
          5,
          5,
          5,
          5,
          5,
          5,
          5,
          5,
          5,
          5,
          5,
          5,
          5,
          5,
          5,
          5,
          5,
          5,
          5,
          5,
          5,
          5,
          5,
          5,
          5,
          5,
          5,
          5,
          5,
          5,
          5,
          5,
          5,
          6,
          6,
          6,
          6,
          6,
          6,
          6,
          6,
          6,
          6,
          6,
          6,
          6,
          6,
          6,
          6,
          6,
          7,
          7,
          7,
          7,
          7,
          7,
          7,
          7,
          7,
          7,
          7,
          7,
          7,
          7,
          8,
          8,
          8,
          8,
          8,
          8,
          8,
          8,
          8,
          8,
          8,
          8,
          8,
          8,
          8,
          8,
          8,
          8,
          9,
          9,
          9,
          9,
          9,
          9,
          9,
          9,
          9,
          9,
          9,
          9,
          9,
          9,
          10,
          10,
          10,
          10,
          10,
          10,
          10,
          10,
          10,
          10,
          10,
          10,
          10,
          10,
          10,
          11,
          11,
          11,
          11,
          11,
          11,
          11,
          11,
          11,
          11,
          11,
          11,
          11,
          11,
          11,
          12,
          12,
          12,
          12,
          12,
          12,
          12,
          12,
          12,
          12,
          12,
          13,
          13,
          13,
          13,
          14,
          14,
          14,
          14,
          14,
          14,
          15,
          15,
          16,
          16,
          16,
          16,
          16,
          16,
          16,
          17,
          17,
          17,
          17,
          17,
          18,
          18,
          18,
          19,
          19,
          19,
          19,
          19,
          20,
          20,
          21,
          21,
          21,
          21,
          22,
          22,
          22,
          22,
          23,
          23,
          23,
          23,
          24,
          25,
          25,
          26,
          27,
          27,
          27,
          28,
          30,
          32,
          32,
          33,
          34,
          34,
          35,
          38,
          40,
          43,
          48,
          72
         ],
         "xaxis": "x",
         "yaxis": "y"
        },
        {
         "alignmentgroup": "True",
         "bingroup": "x",
         "hovertemplate": "Molecule_Type=inorganic<br>#Targets=%{x}<br>count=%{y}<extra></extra>",
         "legendgroup": "inorganic",
         "marker": {
          "color": "#EF553B",
          "pattern": {
           "shape": ""
          }
         },
         "name": "inorganic",
         "offsetgroup": "inorganic",
         "orientation": "v",
         "showlegend": true,
         "type": "histogram",
         "x": [
          1,
          1,
          2,
          3,
          5
         ],
         "xaxis": "x",
         "yaxis": "y"
        }
       ],
       "layout": {
        "barmode": "relative",
        "height": 400,
        "legend": {
         "font": {
          "size": 12
         },
         "title": {
          "text": "molecule type"
         },
         "tracegroupgap": 0
        },
        "margin": {
         "t": 60
        },
        "template": {
         "data": {
          "bar": [
           {
            "error_x": {
             "color": "#2a3f5f"
            },
            "error_y": {
             "color": "#2a3f5f"
            },
            "marker": {
             "line": {
              "color": "#E5ECF6",
              "width": 0.5
             },
             "pattern": {
              "fillmode": "overlay",
              "size": 10,
              "solidity": 0.2
             }
            },
            "type": "bar"
           }
          ],
          "barpolar": [
           {
            "marker": {
             "line": {
              "color": "#E5ECF6",
              "width": 0.5
             },
             "pattern": {
              "fillmode": "overlay",
              "size": 10,
              "solidity": 0.2
             }
            },
            "type": "barpolar"
           }
          ],
          "carpet": [
           {
            "aaxis": {
             "endlinecolor": "#2a3f5f",
             "gridcolor": "white",
             "linecolor": "white",
             "minorgridcolor": "white",
             "startlinecolor": "#2a3f5f"
            },
            "baxis": {
             "endlinecolor": "#2a3f5f",
             "gridcolor": "white",
             "linecolor": "white",
             "minorgridcolor": "white",
             "startlinecolor": "#2a3f5f"
            },
            "type": "carpet"
           }
          ],
          "choropleth": [
           {
            "colorbar": {
             "outlinewidth": 0,
             "ticks": ""
            },
            "type": "choropleth"
           }
          ],
          "contour": [
           {
            "colorbar": {
             "outlinewidth": 0,
             "ticks": ""
            },
            "colorscale": [
             [
              0,
              "#0d0887"
             ],
             [
              0.1111111111111111,
              "#46039f"
             ],
             [
              0.2222222222222222,
              "#7201a8"
             ],
             [
              0.3333333333333333,
              "#9c179e"
             ],
             [
              0.4444444444444444,
              "#bd3786"
             ],
             [
              0.5555555555555556,
              "#d8576b"
             ],
             [
              0.6666666666666666,
              "#ed7953"
             ],
             [
              0.7777777777777778,
              "#fb9f3a"
             ],
             [
              0.8888888888888888,
              "#fdca26"
             ],
             [
              1,
              "#f0f921"
             ]
            ],
            "type": "contour"
           }
          ],
          "contourcarpet": [
           {
            "colorbar": {
             "outlinewidth": 0,
             "ticks": ""
            },
            "type": "contourcarpet"
           }
          ],
          "heatmap": [
           {
            "colorbar": {
             "outlinewidth": 0,
             "ticks": ""
            },
            "colorscale": [
             [
              0,
              "#0d0887"
             ],
             [
              0.1111111111111111,
              "#46039f"
             ],
             [
              0.2222222222222222,
              "#7201a8"
             ],
             [
              0.3333333333333333,
              "#9c179e"
             ],
             [
              0.4444444444444444,
              "#bd3786"
             ],
             [
              0.5555555555555556,
              "#d8576b"
             ],
             [
              0.6666666666666666,
              "#ed7953"
             ],
             [
              0.7777777777777778,
              "#fb9f3a"
             ],
             [
              0.8888888888888888,
              "#fdca26"
             ],
             [
              1,
              "#f0f921"
             ]
            ],
            "type": "heatmap"
           }
          ],
          "heatmapgl": [
           {
            "colorbar": {
             "outlinewidth": 0,
             "ticks": ""
            },
            "colorscale": [
             [
              0,
              "#0d0887"
             ],
             [
              0.1111111111111111,
              "#46039f"
             ],
             [
              0.2222222222222222,
              "#7201a8"
             ],
             [
              0.3333333333333333,
              "#9c179e"
             ],
             [
              0.4444444444444444,
              "#bd3786"
             ],
             [
              0.5555555555555556,
              "#d8576b"
             ],
             [
              0.6666666666666666,
              "#ed7953"
             ],
             [
              0.7777777777777778,
              "#fb9f3a"
             ],
             [
              0.8888888888888888,
              "#fdca26"
             ],
             [
              1,
              "#f0f921"
             ]
            ],
            "type": "heatmapgl"
           }
          ],
          "histogram": [
           {
            "marker": {
             "pattern": {
              "fillmode": "overlay",
              "size": 10,
              "solidity": 0.2
             }
            },
            "type": "histogram"
           }
          ],
          "histogram2d": [
           {
            "colorbar": {
             "outlinewidth": 0,
             "ticks": ""
            },
            "colorscale": [
             [
              0,
              "#0d0887"
             ],
             [
              0.1111111111111111,
              "#46039f"
             ],
             [
              0.2222222222222222,
              "#7201a8"
             ],
             [
              0.3333333333333333,
              "#9c179e"
             ],
             [
              0.4444444444444444,
              "#bd3786"
             ],
             [
              0.5555555555555556,
              "#d8576b"
             ],
             [
              0.6666666666666666,
              "#ed7953"
             ],
             [
              0.7777777777777778,
              "#fb9f3a"
             ],
             [
              0.8888888888888888,
              "#fdca26"
             ],
             [
              1,
              "#f0f921"
             ]
            ],
            "type": "histogram2d"
           }
          ],
          "histogram2dcontour": [
           {
            "colorbar": {
             "outlinewidth": 0,
             "ticks": ""
            },
            "colorscale": [
             [
              0,
              "#0d0887"
             ],
             [
              0.1111111111111111,
              "#46039f"
             ],
             [
              0.2222222222222222,
              "#7201a8"
             ],
             [
              0.3333333333333333,
              "#9c179e"
             ],
             [
              0.4444444444444444,
              "#bd3786"
             ],
             [
              0.5555555555555556,
              "#d8576b"
             ],
             [
              0.6666666666666666,
              "#ed7953"
             ],
             [
              0.7777777777777778,
              "#fb9f3a"
             ],
             [
              0.8888888888888888,
              "#fdca26"
             ],
             [
              1,
              "#f0f921"
             ]
            ],
            "type": "histogram2dcontour"
           }
          ],
          "mesh3d": [
           {
            "colorbar": {
             "outlinewidth": 0,
             "ticks": ""
            },
            "type": "mesh3d"
           }
          ],
          "parcoords": [
           {
            "line": {
             "colorbar": {
              "outlinewidth": 0,
              "ticks": ""
             }
            },
            "type": "parcoords"
           }
          ],
          "pie": [
           {
            "automargin": true,
            "type": "pie"
           }
          ],
          "scatter": [
           {
            "fillpattern": {
             "fillmode": "overlay",
             "size": 10,
             "solidity": 0.2
            },
            "type": "scatter"
           }
          ],
          "scatter3d": [
           {
            "line": {
             "colorbar": {
              "outlinewidth": 0,
              "ticks": ""
             }
            },
            "marker": {
             "colorbar": {
              "outlinewidth": 0,
              "ticks": ""
             }
            },
            "type": "scatter3d"
           }
          ],
          "scattercarpet": [
           {
            "marker": {
             "colorbar": {
              "outlinewidth": 0,
              "ticks": ""
             }
            },
            "type": "scattercarpet"
           }
          ],
          "scattergeo": [
           {
            "marker": {
             "colorbar": {
              "outlinewidth": 0,
              "ticks": ""
             }
            },
            "type": "scattergeo"
           }
          ],
          "scattergl": [
           {
            "marker": {
             "colorbar": {
              "outlinewidth": 0,
              "ticks": ""
             }
            },
            "type": "scattergl"
           }
          ],
          "scattermapbox": [
           {
            "marker": {
             "colorbar": {
              "outlinewidth": 0,
              "ticks": ""
             }
            },
            "type": "scattermapbox"
           }
          ],
          "scatterpolar": [
           {
            "marker": {
             "colorbar": {
              "outlinewidth": 0,
              "ticks": ""
             }
            },
            "type": "scatterpolar"
           }
          ],
          "scatterpolargl": [
           {
            "marker": {
             "colorbar": {
              "outlinewidth": 0,
              "ticks": ""
             }
            },
            "type": "scatterpolargl"
           }
          ],
          "scatterternary": [
           {
            "marker": {
             "colorbar": {
              "outlinewidth": 0,
              "ticks": ""
             }
            },
            "type": "scatterternary"
           }
          ],
          "surface": [
           {
            "colorbar": {
             "outlinewidth": 0,
             "ticks": ""
            },
            "colorscale": [
             [
              0,
              "#0d0887"
             ],
             [
              0.1111111111111111,
              "#46039f"
             ],
             [
              0.2222222222222222,
              "#7201a8"
             ],
             [
              0.3333333333333333,
              "#9c179e"
             ],
             [
              0.4444444444444444,
              "#bd3786"
             ],
             [
              0.5555555555555556,
              "#d8576b"
             ],
             [
              0.6666666666666666,
              "#ed7953"
             ],
             [
              0.7777777777777778,
              "#fb9f3a"
             ],
             [
              0.8888888888888888,
              "#fdca26"
             ],
             [
              1,
              "#f0f921"
             ]
            ],
            "type": "surface"
           }
          ],
          "table": [
           {
            "cells": {
             "fill": {
              "color": "#EBF0F8"
             },
             "line": {
              "color": "white"
             }
            },
            "header": {
             "fill": {
              "color": "#C8D4E3"
             },
             "line": {
              "color": "white"
             }
            },
            "type": "table"
           }
          ]
         },
         "layout": {
          "annotationdefaults": {
           "arrowcolor": "#2a3f5f",
           "arrowhead": 0,
           "arrowwidth": 1
          },
          "autotypenumbers": "strict",
          "coloraxis": {
           "colorbar": {
            "outlinewidth": 0,
            "ticks": ""
           }
          },
          "colorscale": {
           "diverging": [
            [
             0,
             "#8e0152"
            ],
            [
             0.1,
             "#c51b7d"
            ],
            [
             0.2,
             "#de77ae"
            ],
            [
             0.3,
             "#f1b6da"
            ],
            [
             0.4,
             "#fde0ef"
            ],
            [
             0.5,
             "#f7f7f7"
            ],
            [
             0.6,
             "#e6f5d0"
            ],
            [
             0.7,
             "#b8e186"
            ],
            [
             0.8,
             "#7fbc41"
            ],
            [
             0.9,
             "#4d9221"
            ],
            [
             1,
             "#276419"
            ]
           ],
           "sequential": [
            [
             0,
             "#0d0887"
            ],
            [
             0.1111111111111111,
             "#46039f"
            ],
            [
             0.2222222222222222,
             "#7201a8"
            ],
            [
             0.3333333333333333,
             "#9c179e"
            ],
            [
             0.4444444444444444,
             "#bd3786"
            ],
            [
             0.5555555555555556,
             "#d8576b"
            ],
            [
             0.6666666666666666,
             "#ed7953"
            ],
            [
             0.7777777777777778,
             "#fb9f3a"
            ],
            [
             0.8888888888888888,
             "#fdca26"
            ],
            [
             1,
             "#f0f921"
            ]
           ],
           "sequentialminus": [
            [
             0,
             "#0d0887"
            ],
            [
             0.1111111111111111,
             "#46039f"
            ],
            [
             0.2222222222222222,
             "#7201a8"
            ],
            [
             0.3333333333333333,
             "#9c179e"
            ],
            [
             0.4444444444444444,
             "#bd3786"
            ],
            [
             0.5555555555555556,
             "#d8576b"
            ],
            [
             0.6666666666666666,
             "#ed7953"
            ],
            [
             0.7777777777777778,
             "#fb9f3a"
            ],
            [
             0.8888888888888888,
             "#fdca26"
            ],
            [
             1,
             "#f0f921"
            ]
           ]
          },
          "colorway": [
           "#636efa",
           "#EF553B",
           "#00cc96",
           "#ab63fa",
           "#FFA15A",
           "#19d3f3",
           "#FF6692",
           "#B6E880",
           "#FF97FF",
           "#FECB52"
          ],
          "font": {
           "color": "#2a3f5f"
          },
          "geo": {
           "bgcolor": "white",
           "lakecolor": "white",
           "landcolor": "#E5ECF6",
           "showlakes": true,
           "showland": true,
           "subunitcolor": "white"
          },
          "hoverlabel": {
           "align": "left"
          },
          "hovermode": "closest",
          "mapbox": {
           "style": "light"
          },
          "paper_bgcolor": "white",
          "plot_bgcolor": "#E5ECF6",
          "polar": {
           "angularaxis": {
            "gridcolor": "white",
            "linecolor": "white",
            "ticks": ""
           },
           "bgcolor": "#E5ECF6",
           "radialaxis": {
            "gridcolor": "white",
            "linecolor": "white",
            "ticks": ""
           }
          },
          "scene": {
           "xaxis": {
            "backgroundcolor": "#E5ECF6",
            "gridcolor": "white",
            "gridwidth": 2,
            "linecolor": "white",
            "showbackground": true,
            "ticks": "",
            "zerolinecolor": "white"
           },
           "yaxis": {
            "backgroundcolor": "#E5ECF6",
            "gridcolor": "white",
            "gridwidth": 2,
            "linecolor": "white",
            "showbackground": true,
            "ticks": "",
            "zerolinecolor": "white"
           },
           "zaxis": {
            "backgroundcolor": "#E5ECF6",
            "gridcolor": "white",
            "gridwidth": 2,
            "linecolor": "white",
            "showbackground": true,
            "ticks": "",
            "zerolinecolor": "white"
           }
          },
          "shapedefaults": {
           "line": {
            "color": "#2a3f5f"
           }
          },
          "ternary": {
           "aaxis": {
            "gridcolor": "white",
            "linecolor": "white",
            "ticks": ""
           },
           "baxis": {
            "gridcolor": "white",
            "linecolor": "white",
            "ticks": ""
           },
           "bgcolor": "#E5ECF6",
           "caxis": {
            "gridcolor": "white",
            "linecolor": "white",
            "ticks": ""
           }
          },
          "title": {
           "x": 0.05
          },
          "xaxis": {
           "automargin": true,
           "gridcolor": "white",
           "linecolor": "white",
           "ticks": "",
           "title": {
            "standoff": 15
           },
           "zerolinecolor": "white",
           "zerolinewidth": 2
          },
          "yaxis": {
           "automargin": true,
           "gridcolor": "white",
           "linecolor": "white",
           "ticks": "",
           "title": {
            "standoff": 15
           },
           "zerolinecolor": "white",
           "zerolinewidth": 2
          }
         }
        },
        "title": {
         "font": {
          "size": 14
         },
         "text": "Counts of molecules for each group of associated targets"
        },
        "width": 750,
        "xaxis": {
         "anchor": "y",
         "domain": [
          0,
          1
         ],
         "tickangle": 90,
         "tickmode": "linear",
         "title": {
          "text": "#Targets"
         },
         "type": "category"
        },
        "yaxis": {
         "anchor": "x",
         "domain": [
          0,
          1
         ],
         "title": {
          "text": "#Molecules"
         }
        }
       }
      }
     },
     "metadata": {},
     "output_type": "display_data"
    }
   ],
   "source": [
    "# plot the distribution of # targets associated to each molecule\n",
    "fig = px.histogram(mol_targets, x=\"#Targets\", color=\"Molecule_Type\", \n",
    "                    width=750, height=400)\n",
    "\n",
    "# update layout\n",
    "fig.update_xaxes(type='category', tickmode='linear', tickangle=90)\n",
    "fig.update_layout(\n",
    "    title=\"Counts of molecules for each group of associated targets\",\n",
    "    title_font_size = 14,\n",
    "    yaxis_title=\"#Molecules\",\n",
    "    legend_title=\"molecule type\",\n",
    "    legend_font_size = 12)\n",
    "\n",
    "# configuration\n",
    "config = {'modeBarButtonsToRemove': ['logo', 'zoomin', 'zoomout', 'zoom', \n",
    "          'lasso', 'pan', 'autoscale', 'select'], 'displaylogo': False}\n",
    "\n",
    "# save and show \n",
    "fig.write_html(\"../Flask/pollutants_db_app/static/img/distribution_molecules_targets.html\", config=config)\n",
    "fig.show(config=config)"
   ]
  },
  {
   "attachments": {},
   "cell_type": "markdown",
   "metadata": {},
   "source": [
    "#### Distribution of similar molecules given a threshold "
   ]
  },
  {
   "cell_type": "code",
   "execution_count": 184,
   "metadata": {},
   "outputs": [
    {
     "name": "stdout",
     "output_type": "stream",
     "text": [
      "\n",
      "Graph thr.: 0.95 \n",
      "#Edges: 6189 \n",
      "#Nodes: 526\n",
      "Min: 1 \n",
      "Max: 78\n",
      "\n",
      "Graph thr.: 0.85 \n",
      "#Edges: 18011 \n",
      "#Nodes: 535\n",
      "Min: 6 \n",
      "Max: 173\n",
      "\n",
      "Graph thr.: 0.75 \n",
      "#Edges: 31634 \n",
      "#Nodes: 535\n",
      "Min: 11 \n",
      "Max: 236\n"
     ]
    }
   ],
   "source": [
    "threshold = [0.95, 0.85, 0.75]\n",
    "out_similar = []\n",
    "for thr in threshold:\n",
    "    # find similar molecues\n",
    "    top_similar = find_similar(mol_targets, threshold=thr)\n",
    "\n",
    "    # construct set of edges\n",
    "    edges = list(set(top_similar[[\"orig_cid\", \"similar_cid\"]].astype(int).itertuples(index=False, name=None)))\n",
    "\n",
    "    # construct graph\n",
    "    G = nx.Graph()\n",
    "    G.add_edges_from(edges)\n",
    "    print(\"\\nGraph thr.:\", thr, \"\\n#Edges:\", len(G.edges()), \"\\n#Nodes:\", len(G.nodes()))\n",
    "\n",
    "    # compute #neighbors\n",
    "    neigh = []\n",
    "    for n in G.nodes:\n",
    "        neigh.append((n, len([n for _, n in G.edges(n)])))\n",
    "\n",
    "    # generate output dataframe\n",
    "    df_similar = pd.DataFrame({'cid': [t[0] for t in neigh], '#similar': [t[1] for t in neigh]})\n",
    "    print(\"Min:\", df_similar['#similar'].min(), \"\\nMax:\", df_similar['#similar'].max())\n",
    "\n",
    "    out_similar.append(df_similar)\n"
   ]
  },
  {
   "cell_type": "code",
   "execution_count": 185,
   "metadata": {},
   "outputs": [
    {
     "data": {
      "text/plain": [
       "[(13387, 8461), (8146, 87244), (7005, 10522), (379, 6561), (991, 24121)]"
      ]
     },
     "execution_count": 185,
     "metadata": {},
     "output_type": "execute_result"
    }
   ],
   "source": [
    "# return least similar molecules with threshold 0.75\n",
    "unsimilar = find_similar(mol_targets, threshold=0.75, similar=False, seed=SEED)\n",
    "# construct set of edges\n",
    "edges = list(set(unsimilar[[\"orig_cid\", \"similar_cid\"]].astype(int).itertuples(index=False, name=None)))\n",
    "edges[0:5]"
   ]
  },
  {
   "cell_type": "code",
   "execution_count": 186,
   "metadata": {},
   "outputs": [
    {
     "name": "stdout",
     "output_type": "stream",
     "text": [
      "#Edges: 96322 \n",
      "#Nodes: 535\n",
      "Min: 186 \n",
      "Max: 477\n"
     ]
    }
   ],
   "source": [
    "# construct graph for sim < 0.75\n",
    "G = nx.Graph()\n",
    "G.add_edges_from(edges)\n",
    "print(\"#Edges:\", len(G.edges()), \"\\n#Nodes:\", len(G.nodes()))\n",
    "\n",
    "# compute #neighbors\n",
    "neigh = []\n",
    "for n in G.nodes:\n",
    "   neigh.append((n, len([n for _, n in G.edges(n)])))\n",
    "\n",
    "# generate output dataframe\n",
    "df_unsimilar = pd.DataFrame({'cid': [t[0] for t in neigh], '#similar': [t[1] for t in neigh]})\n",
    "print(\"Min:\", df_unsimilar['#similar'].min(), \"\\nMax:\", df_unsimilar['#similar'].max())\n",
    "\n",
    "# add to output list\n",
    "out_similar.append(df_unsimilar)"
   ]
  },
  {
   "cell_type": "code",
   "execution_count": 193,
   "metadata": {},
   "outputs": [
    {
     "data": {
      "application/vnd.plotly.v1+json": {
       "config": {
        "displaylogo": false,
        "modeBarButtonsToRemove": [
         "logo",
         "zoomin",
         "zoomout",
         "zoom",
         "lasso",
         "pan",
         "autoscale",
         "select"
        ],
        "plotlyServerURL": "https://plot.ly",
        "responsive": true
       },
       "data": [
        {
         "marker": {
          "color": "#D04CF4"
         },
         "name": ">0.95",
         "nbinsx": 78,
         "type": "histogram",
         "x": [
          61,
          62,
          71,
          64,
          36,
          26,
          34,
          18,
          26,
          26,
          17,
          20,
          26,
          36,
          21,
          11,
          72,
          37,
          60,
          65,
          29,
          21,
          21,
          24,
          30,
          32,
          20,
          31,
          20,
          15,
          25,
          24,
          36,
          40,
          34,
          21,
          34,
          18,
          39,
          66,
          65,
          17,
          61,
          7,
          8,
          13,
          9,
          26,
          27,
          34,
          31,
          30,
          37,
          25,
          20,
          15,
          59,
          78,
          36,
          45,
          18,
          6,
          24,
          3,
          63,
          3,
          1,
          1,
          15,
          23,
          67,
          9,
          11,
          28,
          57,
          69,
          10,
          17,
          17,
          50,
          18,
          19,
          20,
          5,
          49,
          44,
          13,
          70,
          14,
          34,
          27,
          65,
          42,
          27,
          23,
          21,
          5,
          30,
          44,
          74,
          44,
          42,
          26,
          26,
          65,
          71,
          64,
          60,
          4,
          13,
          24,
          45,
          25,
          26,
          10,
          26,
          31,
          20,
          33,
          60,
          19,
          27,
          18,
          23,
          19,
          66,
          19,
          54,
          12,
          13,
          14,
          38,
          12,
          27,
          58,
          69,
          76,
          37,
          30,
          30,
          37,
          22,
          37,
          19,
          25,
          26,
          27,
          27,
          67,
          68,
          21,
          27,
          63,
          61,
          22,
          38,
          41,
          4,
          8,
          18,
          65,
          39,
          33,
          37,
          28,
          60,
          38,
          25,
          13,
          23,
          21,
          14,
          28,
          16,
          25,
          64,
          66,
          37,
          44,
          18,
          30,
          19,
          29,
          9,
          16,
          9,
          62,
          11,
          15,
          7,
          46,
          16,
          5,
          60,
          9,
          15,
          39,
          12,
          19,
          35,
          16,
          23,
          12,
          27,
          63,
          29,
          27,
          23,
          23,
          58,
          29,
          41,
          15,
          26,
          35,
          63,
          12,
          12,
          18,
          29,
          25,
          9,
          13,
          39,
          22,
          25,
          23,
          65,
          12,
          29,
          39,
          7,
          5,
          16,
          4,
          27,
          30,
          28,
          30,
          26,
          30,
          10,
          31,
          35,
          30,
          62,
          51,
          15,
          39,
          38,
          57,
          20,
          22,
          25,
          26,
          32,
          24,
          36,
          19,
          15,
          11,
          21,
          31,
          34,
          11,
          16,
          69,
          31,
          40,
          17,
          9,
          27,
          26,
          8,
          61,
          50,
          32,
          36,
          23,
          35,
          18,
          23,
          18,
          15,
          27,
          22,
          16,
          26,
          29,
          22,
          26,
          20,
          18,
          27,
          29,
          36,
          21,
          17,
          30,
          16,
          26,
          20,
          26,
          20,
          15,
          25,
          12,
          16,
          59,
          61,
          64,
          26,
          64,
          24,
          39,
          12,
          35,
          1,
          2,
          19,
          39,
          19,
          23,
          3,
          26,
          27,
          68,
          16,
          18,
          20,
          31,
          27,
          13,
          6,
          29,
          16,
          31,
          7,
          16,
          24,
          13,
          41,
          37,
          22,
          8,
          25,
          22,
          7,
          6,
          22,
          5,
          18,
          45,
          33,
          19,
          22,
          24,
          13,
          12,
          26,
          11,
          23,
          14,
          37,
          18,
          14,
          14,
          14,
          16,
          1,
          16,
          23,
          15,
          69,
          11,
          4,
          41,
          11,
          8,
          44,
          8,
          7,
          13,
          16,
          26,
          8,
          8,
          22,
          18,
          29,
          8,
          8,
          20,
          17,
          65,
          13,
          2,
          25,
          35,
          4,
          10,
          23,
          15,
          10,
          11,
          4,
          5,
          7,
          7,
          16,
          19,
          3,
          21,
          19,
          9,
          33,
          7,
          38,
          25,
          6,
          25,
          24,
          24,
          15,
          26,
          7,
          18,
          13,
          5,
          6,
          39,
          7,
          27,
          9,
          14,
          26,
          11,
          28,
          4,
          4,
          10,
          9,
          8,
          6,
          9,
          21,
          11,
          11,
          3,
          3,
          1,
          23,
          10,
          7,
          1,
          21,
          5,
          1,
          6,
          19,
          1,
          6,
          19,
          5,
          1,
          2,
          8,
          5,
          4,
          2,
          3,
          9,
          7,
          12,
          17,
          9,
          3,
          6,
          4,
          5,
          15,
          3,
          8,
          4,
          6,
          2,
          7,
          1,
          2,
          12,
          7,
          2,
          6,
          2,
          6,
          14,
          1,
          2,
          3,
          7,
          2,
          2,
          5,
          5,
          4,
          4,
          4,
          3,
          7,
          3,
          3,
          2,
          5,
          3,
          2,
          4,
          4,
          4,
          2,
          2,
          3,
          2,
          1,
          1,
          1,
          1
         ],
         "xaxis": "x",
         "yaxis": "y"
        },
        {
         "marker": {
          "color": "#724CF4"
         },
         "name": ">0.85",
         "nbinsx": 173,
         "type": "histogram",
         "x": [
          162,
          163,
          53,
          97,
          94,
          54,
          157,
          94,
          131,
          88,
          141,
          157,
          47,
          33,
          73,
          62,
          52,
          61,
          103,
          128,
          56,
          116,
          121,
          114,
          57,
          43,
          77,
          113,
          56,
          101,
          80,
          96,
          80,
          19,
          14,
          55,
          130,
          114,
          100,
          101,
          125,
          59,
          141,
          103,
          61,
          77,
          92,
          60,
          127,
          74,
          63,
          114,
          97,
          103,
          95,
          117,
          54,
          99,
          105,
          73,
          105,
          81,
          56,
          60,
          52,
          97,
          89,
          65,
          67,
          86,
          162,
          131,
          83,
          142,
          62,
          99,
          102,
          68,
          36,
          86,
          44,
          145,
          128,
          107,
          64,
          64,
          64,
          86,
          97,
          124,
          93,
          71,
          122,
          89,
          88,
          47,
          51,
          141,
          104,
          49,
          61,
          97,
          61,
          26,
          89,
          93,
          114,
          84,
          119,
          57,
          82,
          111,
          169,
          135,
          123,
          52,
          48,
          65,
          60,
          75,
          51,
          112,
          153,
          54,
          45,
          158,
          135,
          112,
          61,
          85,
          95,
          57,
          47,
          68,
          52,
          55,
          92,
          166,
          54,
          110,
          101,
          147,
          114,
          34,
          30,
          64,
          67,
          50,
          87,
          58,
          129,
          165,
          24,
          66,
          56,
          46,
          113,
          123,
          112,
          133,
          107,
          70,
          50,
          63,
          61,
          67,
          154,
          88,
          40,
          105,
          54,
          137,
          71,
          94,
          33,
          15,
          102,
          65,
          64,
          100,
          106,
          59,
          119,
          38,
          52,
          53,
          94,
          87,
          89,
          30,
          46,
          84,
          107,
          111,
          111,
          64,
          75,
          96,
          101,
          37,
          128,
          90,
          101,
          130,
          109,
          91,
          120,
          53,
          64,
          37,
          19,
          156,
          40,
          61,
          57,
          47,
          45,
          63,
          109,
          57,
          124,
          105,
          32,
          43,
          56,
          110,
          58,
          71,
          109,
          84,
          51,
          98,
          89,
          113,
          44,
          67,
          51,
          66,
          103,
          50,
          51,
          47,
          52,
          107,
          44,
          65,
          68,
          61,
          51,
          107,
          49,
          50,
          120,
          55,
          60,
          117,
          45,
          49,
          79,
          110,
          25,
          110,
          99,
          39,
          63,
          56,
          35,
          40,
          61,
          45,
          40,
          56,
          30,
          42,
          139,
          52,
          67,
          68,
          156,
          60,
          12,
          37,
          39,
          35,
          40,
          58,
          67,
          41,
          49,
          50,
          42,
          85,
          47,
          39,
          91,
          105,
          35,
          58,
          57,
          40,
          45,
          58,
          70,
          45,
          57,
          132,
          108,
          64,
          64,
          119,
          130,
          36,
          31,
          32,
          30,
          42,
          25,
          63,
          37,
          78,
          50,
          45,
          56,
          20,
          118,
          51,
          87,
          21,
          24,
          51,
          47,
          51,
          54,
          58,
          41,
          47,
          20,
          44,
          48,
          59,
          56,
          51,
          44,
          43,
          28,
          53,
          93,
          96,
          129,
          44,
          43,
          46,
          40,
          27,
          48,
          55,
          30,
          25,
          32,
          36,
          67,
          55,
          71,
          41,
          36,
          37,
          25,
          42,
          40,
          42,
          41,
          59,
          49,
          48,
          66,
          76,
          53,
          69,
          173,
          45,
          43,
          88,
          83,
          104,
          131,
          67,
          39,
          44,
          93,
          133,
          32,
          108,
          55,
          69,
          55,
          56,
          19,
          33,
          26,
          56,
          48,
          95,
          27,
          46,
          50,
          24,
          38,
          41,
          51,
          101,
          31,
          42,
          43,
          53,
          60,
          109,
          48,
          72,
          31,
          139,
          33,
          52,
          108,
          64,
          40,
          29,
          36,
          31,
          56,
          110,
          91,
          48,
          48,
          63,
          44,
          18,
          37,
          35,
          28,
          104,
          24,
          45,
          96,
          41,
          50,
          37,
          27,
          64,
          55,
          62,
          42,
          57,
          23,
          48,
          31,
          65,
          34,
          10,
          23,
          62,
          31,
          59,
          77,
          69,
          34,
          96,
          53,
          29,
          52,
          45,
          37,
          26,
          58,
          41,
          34,
          114,
          6,
          24,
          31,
          45,
          62,
          83,
          49,
          48,
          58,
          54,
          38,
          42,
          53,
          28,
          36,
          50,
          47,
          37,
          63,
          55,
          23,
          29,
          14,
          53,
          29,
          23,
          76,
          62,
          46,
          62,
          77,
          32,
          24,
          9,
          14,
          33,
          45,
          61,
          34,
          51,
          33,
          29,
          44,
          40,
          36,
          44,
          62,
          28,
          42,
          13,
          22,
          31,
          22,
          14,
          28,
          9,
          34,
          9,
          17
         ],
         "xaxis": "x2",
         "yaxis": "y2"
        },
        {
         "marker": {
          "color": "#45DA3E"
         },
         "name": ">0.75",
         "nbinsx": 236,
         "type": "histogram",
         "x": [
          137,
          76,
          86,
          91,
          204,
          203,
          90,
          177,
          90,
          79,
          151,
          123,
          113,
          89,
          155,
          87,
          207,
          155,
          97,
          74,
          211,
          208,
          120,
          97,
          145,
          182,
          202,
          210,
          105,
          51,
          78,
          57,
          47,
          118,
          149,
          123,
          144,
          126,
          137,
          62,
          89,
          133,
          69,
          128,
          70,
          78,
          182,
          193,
          140,
          196,
          188,
          157,
          109,
          81,
          117,
          215,
          138,
          152,
          146,
          115,
          188,
          132,
          96,
          199,
          148,
          67,
          60,
          97,
          188,
          125,
          125,
          205,
          217,
          169,
          198,
          139,
          121,
          126,
          157,
          95,
          214,
          129,
          111,
          95,
          119,
          99,
          116,
          116,
          188,
          149,
          144,
          119,
          162,
          156,
          202,
          236,
          95,
          215,
          146,
          151,
          153,
          113,
          97,
          83,
          125,
          166,
          113,
          206,
          191,
          139,
          153,
          114,
          196,
          97,
          182,
          119,
          144,
          202,
          191,
          165,
          122,
          92,
          194,
          103,
          188,
          118,
          199,
          92,
          141,
          140,
          73,
          148,
          209,
          177,
          113,
          122,
          145,
          212,
          96,
          142,
          204,
          130,
          188,
          205,
          166,
          136,
          125,
          130,
          146,
          99,
          163,
          118,
          104,
          84,
          199,
          174,
          73,
          139,
          123,
          175,
          123,
          112,
          85,
          94,
          122,
          118,
          202,
          173,
          67,
          75,
          115,
          76,
          71,
          77,
          142,
          111,
          168,
          97,
          162,
          213,
          150,
          209,
          83,
          120,
          187,
          201,
          227,
          187,
          73,
          69,
          220,
          116,
          97,
          218,
          105,
          99,
          88,
          63,
          179,
          208,
          189,
          70,
          93,
          194,
          88,
          220,
          186,
          85,
          112,
          130,
          93,
          83,
          198,
          151,
          65,
          80,
          56,
          200,
          129,
          104,
          113,
          74,
          70,
          113,
          205,
          104,
          189,
          193,
          218,
          56,
          169,
          225,
          58,
          62,
          81,
          86,
          73,
          65,
          95,
          162,
          190,
          90,
          65,
          125,
          134,
          201,
          109,
          89,
          82,
          156,
          77,
          138,
          207,
          185,
          207,
          181,
          156,
          109,
          72,
          90,
          84,
          75,
          68,
          115,
          206,
          87,
          162,
          59,
          91,
          204,
          76,
          115,
          132,
          96,
          185,
          65,
          81,
          82,
          71,
          122,
          89,
          92,
          53,
          116,
          57,
          77,
          119,
          166,
          97,
          73,
          153,
          110,
          146,
          83,
          120,
          93,
          120,
          140,
          203,
          184,
          139,
          157,
          66,
          71,
          122,
          107,
          164,
          112,
          146,
          68,
          87,
          78,
          80,
          93,
          70,
          77,
          78,
          104,
          94,
          152,
          91,
          131,
          95,
          71,
          98,
          101,
          91,
          182,
          186,
          201,
          135,
          143,
          97,
          131,
          213,
          88,
          83,
          138,
          200,
          93,
          97,
          93,
          161,
          111,
          123,
          153,
          86,
          177,
          160,
          79,
          73,
          104,
          167,
          42,
          85,
          141,
          185,
          81,
          80,
          77,
          82,
          89,
          172,
          95,
          106,
          48,
          125,
          168,
          174,
          97,
          64,
          102,
          126,
          164,
          197,
          127,
          161,
          58,
          182,
          213,
          72,
          88,
          97,
          76,
          74,
          213,
          87,
          62,
          39,
          73,
          193,
          114,
          49,
          119,
          101,
          206,
          86,
          51,
          76,
          94,
          93,
          88,
          72,
          119,
          75,
          78,
          85,
          116,
          90,
          72,
          58,
          89,
          54,
          86,
          84,
          180,
          88,
          86,
          95,
          93,
          135,
          77,
          83,
          69,
          91,
          94,
          83,
          84,
          98,
          82,
          161,
          88,
          115,
          78,
          110,
          140,
          103,
          78,
          94,
          72,
          95,
          109,
          63,
          50,
          128,
          186,
          140,
          175,
          70,
          84,
          80,
          82,
          47,
          73,
          73,
          61,
          45,
          119,
          75,
          116,
          124,
          124,
          60,
          55,
          70,
          80,
          67,
          87,
          89,
          93,
          114,
          183,
          176,
          63,
          60,
          74,
          97,
          125,
          98,
          65,
          73,
          173,
          186,
          112,
          81,
          129,
          49,
          94,
          159,
          52,
          69,
          69,
          201,
          110,
          60,
          83,
          204,
          93,
          48,
          82,
          79,
          79,
          143,
          143,
          82,
          97,
          50,
          81,
          50,
          69,
          120,
          82,
          80,
          79,
          99,
          66,
          73,
          26,
          55,
          83,
          90,
          58,
          68,
          98,
          11,
          58,
          80,
          85,
          81,
          72,
          89,
          20,
          78,
          65,
          22
         ],
         "xaxis": "x3",
         "yaxis": "y3"
        },
        {
         "marker": {
          "color": "#F4D34C"
         },
         "name": "<0.75",
         "nbinsx": 477,
         "type": "histogram",
         "x": [
          384,
          398,
          347,
          427,
          370,
          394,
          288,
          345,
          402,
          359,
          397,
          389,
          384,
          376,
          362,
          379,
          362,
          435,
          298,
          335,
          354,
          393,
          358,
          402,
          367,
          219,
          326,
          327,
          365,
          300,
          355,
          315,
          263,
          314,
          368,
          351,
          392,
          405,
          266,
          429,
          388,
          367,
          412,
          373,
          361,
          385,
          345,
          385,
          395,
          389,
          312,
          393,
          333,
          364,
          361,
          388,
          325,
          362,
          388,
          372,
          353,
          269,
          382,
          362,
          350,
          311,
          408,
          368,
          337,
          406,
          362,
          345,
          388,
          401,
          359,
          371,
          350,
          300,
          353,
          397,
          410,
          402,
          370,
          398,
          380,
          377,
          373,
          331,
          338,
          379,
          335,
          366,
          255,
          379,
          413,
          398,
          370,
          335,
          318,
          371,
          417,
          380,
          372,
          409,
          309,
          431,
          359,
          391,
          409,
          378,
          409,
          368,
          368,
          387,
          369,
          379,
          383,
          405,
          424,
          453,
          420,
          338,
          376,
          395,
          342,
          373,
          338,
          369,
          367,
          318,
          350,
          376,
          347,
          360,
          378,
          318,
          380,
          375,
          395,
          395,
          374,
          404,
          281,
          369,
          348,
          314,
          387,
          409,
          420,
          299,
          388,
          402,
          320,
          392,
          385,
          364,
          393,
          403,
          375,
          364,
          356,
          398,
          366,
          344,
          348,
          254,
          406,
          384,
          382,
          348,
          411,
          388,
          319,
          404,
          261,
          376,
          404,
          380,
          416,
          361,
          191,
          245,
          358,
          396,
          358,
          441,
          388,
          322,
          407,
          411,
          318,
          419,
          367,
          342,
          376,
          422,
          388,
          412,
          393,
          351,
          435,
          330,
          417,
          371,
          227,
          376,
          340,
          309,
          392,
          350,
          382,
          412,
          361,
          318,
          398,
          306,
          367,
          362,
          374,
          426,
          377,
          380,
          345,
          393,
          422,
          276,
          283,
          422,
          333,
          406,
          393,
          356,
          325,
          333,
          378,
          375,
          331,
          429,
          370,
          379,
          390,
          415,
          385,
          369,
          252,
          359,
          255,
          413,
          434,
          399,
          375,
          378,
          340,
          359,
          333,
          409,
          347,
          409,
          367,
          380,
          348,
          414,
          370,
          423,
          372,
          303,
          365,
          355,
          302,
          310,
          371,
          342,
          388,
          411,
          397,
          376,
          388,
          402,
          299,
          403,
          314,
          395,
          381,
          410,
          340,
          385,
          388,
          391,
          379,
          367,
          400,
          333,
          397,
          380,
          370,
          390,
          338,
          316,
          380,
          384,
          241,
          310,
          407,
          385,
          377,
          227,
          414,
          388,
          409,
          353,
          402,
          421,
          415,
          372,
          272,
          413,
          304,
          313,
          429,
          328,
          358,
          393,
          320,
          383,
          388,
          385,
          397,
          401,
          336,
          202,
          416,
          329,
          373,
          368,
          364,
          257,
          313,
          269,
          314,
          391,
          415,
          321,
          338,
          210,
          317,
          386,
          379,
          411,
          379,
          265,
          388,
          396,
          347,
          422,
          415,
          252,
          374,
          325,
          428,
          213,
          341,
          395,
          381,
          377,
          351,
          352,
          372,
          292,
          294,
          304,
          351,
          290,
          377,
          339,
          387,
          309,
          443,
          294,
          341,
          381,
          362,
          342,
          412,
          402,
          307,
          337,
          395,
          398,
          398,
          370,
          412,
          402,
          251,
          340,
          383,
          440,
          375,
          312,
          325,
          308,
          299,
          359,
          340,
          367,
          374,
          380,
          379,
          419,
          409,
          382,
          388,
          313,
          430,
          406,
          400,
          319,
          363,
          417,
          413,
          345,
          372,
          394,
          308,
          269,
          392,
          477,
          396,
          350,
          409,
          381,
          300,
          422,
          378,
          385,
          380,
          376,
          351,
          305,
          244,
          391,
          374,
          326,
          392,
          305,
          290,
          357,
          246,
          247,
          408,
          385,
          414,
          381,
          414,
          358,
          255,
          366,
          379,
          263,
          380,
          358,
          398,
          373,
          375,
          399,
          345,
          416,
          366,
          373,
          384,
          389,
          415,
          381,
          330,
          435,
          343,
          347,
          332,
          365,
          384,
          345,
          344,
          203,
          352,
          390,
          400,
          314,
          412,
          216,
          273,
          262,
          424,
          434,
          325,
          333,
          298,
          249,
          380,
          350,
          353,
          361,
          379,
          353,
          291,
          355,
          377,
          186,
          249,
          387,
          331,
          347,
          363,
          384,
          391,
          274,
          323,
          391,
          418,
          322,
          336,
          329,
          354,
          361,
          254,
          369,
          229,
          245,
          297,
          327,
          301,
          420,
          225,
          319,
          370,
          252,
          343
         ],
         "xaxis": "x4",
         "yaxis": "y4"
        }
       ],
       "layout": {
        "annotations": [
         {
          "font": {
           "size": 14
          },
          "showarrow": false,
          "text": "#Similar Molecules",
          "x": 0.5,
          "xanchor": "center",
          "xref": "paper",
          "y": 0,
          "yanchor": "top",
          "yref": "paper",
          "yshift": -30
         },
         {
          "font": {
           "size": 14
          },
          "showarrow": false,
          "text": "#Molecules",
          "textangle": -90,
          "x": 0,
          "xanchor": "right",
          "xref": "paper",
          "xshift": -40,
          "y": 0.5,
          "yanchor": "middle",
          "yref": "paper"
         }
        ],
        "legend": {
         "title": {
          "text": "similarity thr."
         }
        },
        "template": {
         "data": {
          "bar": [
           {
            "error_x": {
             "color": "#2a3f5f"
            },
            "error_y": {
             "color": "#2a3f5f"
            },
            "marker": {
             "line": {
              "color": "#E5ECF6",
              "width": 0.5
             },
             "pattern": {
              "fillmode": "overlay",
              "size": 10,
              "solidity": 0.2
             }
            },
            "type": "bar"
           }
          ],
          "barpolar": [
           {
            "marker": {
             "line": {
              "color": "#E5ECF6",
              "width": 0.5
             },
             "pattern": {
              "fillmode": "overlay",
              "size": 10,
              "solidity": 0.2
             }
            },
            "type": "barpolar"
           }
          ],
          "carpet": [
           {
            "aaxis": {
             "endlinecolor": "#2a3f5f",
             "gridcolor": "white",
             "linecolor": "white",
             "minorgridcolor": "white",
             "startlinecolor": "#2a3f5f"
            },
            "baxis": {
             "endlinecolor": "#2a3f5f",
             "gridcolor": "white",
             "linecolor": "white",
             "minorgridcolor": "white",
             "startlinecolor": "#2a3f5f"
            },
            "type": "carpet"
           }
          ],
          "choropleth": [
           {
            "colorbar": {
             "outlinewidth": 0,
             "ticks": ""
            },
            "type": "choropleth"
           }
          ],
          "contour": [
           {
            "colorbar": {
             "outlinewidth": 0,
             "ticks": ""
            },
            "colorscale": [
             [
              0,
              "#0d0887"
             ],
             [
              0.1111111111111111,
              "#46039f"
             ],
             [
              0.2222222222222222,
              "#7201a8"
             ],
             [
              0.3333333333333333,
              "#9c179e"
             ],
             [
              0.4444444444444444,
              "#bd3786"
             ],
             [
              0.5555555555555556,
              "#d8576b"
             ],
             [
              0.6666666666666666,
              "#ed7953"
             ],
             [
              0.7777777777777778,
              "#fb9f3a"
             ],
             [
              0.8888888888888888,
              "#fdca26"
             ],
             [
              1,
              "#f0f921"
             ]
            ],
            "type": "contour"
           }
          ],
          "contourcarpet": [
           {
            "colorbar": {
             "outlinewidth": 0,
             "ticks": ""
            },
            "type": "contourcarpet"
           }
          ],
          "heatmap": [
           {
            "colorbar": {
             "outlinewidth": 0,
             "ticks": ""
            },
            "colorscale": [
             [
              0,
              "#0d0887"
             ],
             [
              0.1111111111111111,
              "#46039f"
             ],
             [
              0.2222222222222222,
              "#7201a8"
             ],
             [
              0.3333333333333333,
              "#9c179e"
             ],
             [
              0.4444444444444444,
              "#bd3786"
             ],
             [
              0.5555555555555556,
              "#d8576b"
             ],
             [
              0.6666666666666666,
              "#ed7953"
             ],
             [
              0.7777777777777778,
              "#fb9f3a"
             ],
             [
              0.8888888888888888,
              "#fdca26"
             ],
             [
              1,
              "#f0f921"
             ]
            ],
            "type": "heatmap"
           }
          ],
          "heatmapgl": [
           {
            "colorbar": {
             "outlinewidth": 0,
             "ticks": ""
            },
            "colorscale": [
             [
              0,
              "#0d0887"
             ],
             [
              0.1111111111111111,
              "#46039f"
             ],
             [
              0.2222222222222222,
              "#7201a8"
             ],
             [
              0.3333333333333333,
              "#9c179e"
             ],
             [
              0.4444444444444444,
              "#bd3786"
             ],
             [
              0.5555555555555556,
              "#d8576b"
             ],
             [
              0.6666666666666666,
              "#ed7953"
             ],
             [
              0.7777777777777778,
              "#fb9f3a"
             ],
             [
              0.8888888888888888,
              "#fdca26"
             ],
             [
              1,
              "#f0f921"
             ]
            ],
            "type": "heatmapgl"
           }
          ],
          "histogram": [
           {
            "marker": {
             "pattern": {
              "fillmode": "overlay",
              "size": 10,
              "solidity": 0.2
             }
            },
            "type": "histogram"
           }
          ],
          "histogram2d": [
           {
            "colorbar": {
             "outlinewidth": 0,
             "ticks": ""
            },
            "colorscale": [
             [
              0,
              "#0d0887"
             ],
             [
              0.1111111111111111,
              "#46039f"
             ],
             [
              0.2222222222222222,
              "#7201a8"
             ],
             [
              0.3333333333333333,
              "#9c179e"
             ],
             [
              0.4444444444444444,
              "#bd3786"
             ],
             [
              0.5555555555555556,
              "#d8576b"
             ],
             [
              0.6666666666666666,
              "#ed7953"
             ],
             [
              0.7777777777777778,
              "#fb9f3a"
             ],
             [
              0.8888888888888888,
              "#fdca26"
             ],
             [
              1,
              "#f0f921"
             ]
            ],
            "type": "histogram2d"
           }
          ],
          "histogram2dcontour": [
           {
            "colorbar": {
             "outlinewidth": 0,
             "ticks": ""
            },
            "colorscale": [
             [
              0,
              "#0d0887"
             ],
             [
              0.1111111111111111,
              "#46039f"
             ],
             [
              0.2222222222222222,
              "#7201a8"
             ],
             [
              0.3333333333333333,
              "#9c179e"
             ],
             [
              0.4444444444444444,
              "#bd3786"
             ],
             [
              0.5555555555555556,
              "#d8576b"
             ],
             [
              0.6666666666666666,
              "#ed7953"
             ],
             [
              0.7777777777777778,
              "#fb9f3a"
             ],
             [
              0.8888888888888888,
              "#fdca26"
             ],
             [
              1,
              "#f0f921"
             ]
            ],
            "type": "histogram2dcontour"
           }
          ],
          "mesh3d": [
           {
            "colorbar": {
             "outlinewidth": 0,
             "ticks": ""
            },
            "type": "mesh3d"
           }
          ],
          "parcoords": [
           {
            "line": {
             "colorbar": {
              "outlinewidth": 0,
              "ticks": ""
             }
            },
            "type": "parcoords"
           }
          ],
          "pie": [
           {
            "automargin": true,
            "type": "pie"
           }
          ],
          "scatter": [
           {
            "fillpattern": {
             "fillmode": "overlay",
             "size": 10,
             "solidity": 0.2
            },
            "type": "scatter"
           }
          ],
          "scatter3d": [
           {
            "line": {
             "colorbar": {
              "outlinewidth": 0,
              "ticks": ""
             }
            },
            "marker": {
             "colorbar": {
              "outlinewidth": 0,
              "ticks": ""
             }
            },
            "type": "scatter3d"
           }
          ],
          "scattercarpet": [
           {
            "marker": {
             "colorbar": {
              "outlinewidth": 0,
              "ticks": ""
             }
            },
            "type": "scattercarpet"
           }
          ],
          "scattergeo": [
           {
            "marker": {
             "colorbar": {
              "outlinewidth": 0,
              "ticks": ""
             }
            },
            "type": "scattergeo"
           }
          ],
          "scattergl": [
           {
            "marker": {
             "colorbar": {
              "outlinewidth": 0,
              "ticks": ""
             }
            },
            "type": "scattergl"
           }
          ],
          "scattermapbox": [
           {
            "marker": {
             "colorbar": {
              "outlinewidth": 0,
              "ticks": ""
             }
            },
            "type": "scattermapbox"
           }
          ],
          "scatterpolar": [
           {
            "marker": {
             "colorbar": {
              "outlinewidth": 0,
              "ticks": ""
             }
            },
            "type": "scatterpolar"
           }
          ],
          "scatterpolargl": [
           {
            "marker": {
             "colorbar": {
              "outlinewidth": 0,
              "ticks": ""
             }
            },
            "type": "scatterpolargl"
           }
          ],
          "scatterternary": [
           {
            "marker": {
             "colorbar": {
              "outlinewidth": 0,
              "ticks": ""
             }
            },
            "type": "scatterternary"
           }
          ],
          "surface": [
           {
            "colorbar": {
             "outlinewidth": 0,
             "ticks": ""
            },
            "colorscale": [
             [
              0,
              "#0d0887"
             ],
             [
              0.1111111111111111,
              "#46039f"
             ],
             [
              0.2222222222222222,
              "#7201a8"
             ],
             [
              0.3333333333333333,
              "#9c179e"
             ],
             [
              0.4444444444444444,
              "#bd3786"
             ],
             [
              0.5555555555555556,
              "#d8576b"
             ],
             [
              0.6666666666666666,
              "#ed7953"
             ],
             [
              0.7777777777777778,
              "#fb9f3a"
             ],
             [
              0.8888888888888888,
              "#fdca26"
             ],
             [
              1,
              "#f0f921"
             ]
            ],
            "type": "surface"
           }
          ],
          "table": [
           {
            "cells": {
             "fill": {
              "color": "#EBF0F8"
             },
             "line": {
              "color": "white"
             }
            },
            "header": {
             "fill": {
              "color": "#C8D4E3"
             },
             "line": {
              "color": "white"
             }
            },
            "type": "table"
           }
          ]
         },
         "layout": {
          "annotationdefaults": {
           "arrowcolor": "#2a3f5f",
           "arrowhead": 0,
           "arrowwidth": 1
          },
          "autotypenumbers": "strict",
          "coloraxis": {
           "colorbar": {
            "outlinewidth": 0,
            "ticks": ""
           }
          },
          "colorscale": {
           "diverging": [
            [
             0,
             "#8e0152"
            ],
            [
             0.1,
             "#c51b7d"
            ],
            [
             0.2,
             "#de77ae"
            ],
            [
             0.3,
             "#f1b6da"
            ],
            [
             0.4,
             "#fde0ef"
            ],
            [
             0.5,
             "#f7f7f7"
            ],
            [
             0.6,
             "#e6f5d0"
            ],
            [
             0.7,
             "#b8e186"
            ],
            [
             0.8,
             "#7fbc41"
            ],
            [
             0.9,
             "#4d9221"
            ],
            [
             1,
             "#276419"
            ]
           ],
           "sequential": [
            [
             0,
             "#0d0887"
            ],
            [
             0.1111111111111111,
             "#46039f"
            ],
            [
             0.2222222222222222,
             "#7201a8"
            ],
            [
             0.3333333333333333,
             "#9c179e"
            ],
            [
             0.4444444444444444,
             "#bd3786"
            ],
            [
             0.5555555555555556,
             "#d8576b"
            ],
            [
             0.6666666666666666,
             "#ed7953"
            ],
            [
             0.7777777777777778,
             "#fb9f3a"
            ],
            [
             0.8888888888888888,
             "#fdca26"
            ],
            [
             1,
             "#f0f921"
            ]
           ],
           "sequentialminus": [
            [
             0,
             "#0d0887"
            ],
            [
             0.1111111111111111,
             "#46039f"
            ],
            [
             0.2222222222222222,
             "#7201a8"
            ],
            [
             0.3333333333333333,
             "#9c179e"
            ],
            [
             0.4444444444444444,
             "#bd3786"
            ],
            [
             0.5555555555555556,
             "#d8576b"
            ],
            [
             0.6666666666666666,
             "#ed7953"
            ],
            [
             0.7777777777777778,
             "#fb9f3a"
            ],
            [
             0.8888888888888888,
             "#fdca26"
            ],
            [
             1,
             "#f0f921"
            ]
           ]
          },
          "colorway": [
           "#636efa",
           "#EF553B",
           "#00cc96",
           "#ab63fa",
           "#FFA15A",
           "#19d3f3",
           "#FF6692",
           "#B6E880",
           "#FF97FF",
           "#FECB52"
          ],
          "font": {
           "color": "#2a3f5f"
          },
          "geo": {
           "bgcolor": "white",
           "lakecolor": "white",
           "landcolor": "#E5ECF6",
           "showlakes": true,
           "showland": true,
           "subunitcolor": "white"
          },
          "hoverlabel": {
           "align": "left"
          },
          "hovermode": "closest",
          "mapbox": {
           "style": "light"
          },
          "paper_bgcolor": "white",
          "plot_bgcolor": "#E5ECF6",
          "polar": {
           "angularaxis": {
            "gridcolor": "white",
            "linecolor": "white",
            "ticks": ""
           },
           "bgcolor": "#E5ECF6",
           "radialaxis": {
            "gridcolor": "white",
            "linecolor": "white",
            "ticks": ""
           }
          },
          "scene": {
           "xaxis": {
            "backgroundcolor": "#E5ECF6",
            "gridcolor": "white",
            "gridwidth": 2,
            "linecolor": "white",
            "showbackground": true,
            "ticks": "",
            "zerolinecolor": "white"
           },
           "yaxis": {
            "backgroundcolor": "#E5ECF6",
            "gridcolor": "white",
            "gridwidth": 2,
            "linecolor": "white",
            "showbackground": true,
            "ticks": "",
            "zerolinecolor": "white"
           },
           "zaxis": {
            "backgroundcolor": "#E5ECF6",
            "gridcolor": "white",
            "gridwidth": 2,
            "linecolor": "white",
            "showbackground": true,
            "ticks": "",
            "zerolinecolor": "white"
           }
          },
          "shapedefaults": {
           "line": {
            "color": "#2a3f5f"
           }
          },
          "ternary": {
           "aaxis": {
            "gridcolor": "white",
            "linecolor": "white",
            "ticks": ""
           },
           "baxis": {
            "gridcolor": "white",
            "linecolor": "white",
            "ticks": ""
           },
           "bgcolor": "#E5ECF6",
           "caxis": {
            "gridcolor": "white",
            "linecolor": "white",
            "ticks": ""
           }
          },
          "title": {
           "x": 0.05
          },
          "xaxis": {
           "automargin": true,
           "gridcolor": "white",
           "linecolor": "white",
           "ticks": "",
           "title": {
            "standoff": 15
           },
           "zerolinecolor": "white",
           "zerolinewidth": 2
          },
          "yaxis": {
           "automargin": true,
           "gridcolor": "white",
           "linecolor": "white",
           "ticks": "",
           "title": {
            "standoff": 15
           },
           "zerolinecolor": "white",
           "zerolinewidth": 2
          }
         }
        },
        "title": {
         "font": {
          "size": 14
         },
         "text": "Counts of molecules for each group of similar molecules at different similarity thr."
        },
        "width": 750,
        "xaxis": {
         "anchor": "y",
         "domain": [
          0,
          0.45
         ]
        },
        "xaxis2": {
         "anchor": "y2",
         "domain": [
          0.55,
          1
         ]
        },
        "xaxis3": {
         "anchor": "y3",
         "domain": [
          0,
          0.45
         ]
        },
        "xaxis4": {
         "anchor": "y4",
         "domain": [
          0.55,
          1
         ]
        },
        "yaxis": {
         "anchor": "x",
         "domain": [
          0.575,
          1
         ]
        },
        "yaxis2": {
         "anchor": "x2",
         "domain": [
          0.575,
          1
         ]
        },
        "yaxis3": {
         "anchor": "x3",
         "domain": [
          0,
          0.425
         ]
        },
        "yaxis4": {
         "anchor": "x4",
         "domain": [
          0,
          0.425
         ]
        }
       }
      }
     },
     "metadata": {},
     "output_type": "display_data"
    }
   ],
   "source": [
    "# make subplots\n",
    "fig = make_subplots(rows=2, cols=2, x_title='#Similar Molecules', y_title='#Molecules') \n",
    "# > 0.95\n",
    "trace1 = go.Histogram(name=\">0.95\", x=out_similar[0]['#similar'], nbinsx=int(out_similar[0]['#similar'].max()), marker=go.histogram.Marker(color='#D04CF4'))\n",
    "# > 0.85\n",
    "trace2 = go.Histogram(name=\">0.85\", x=out_similar[1]['#similar'], nbinsx=int(out_similar[1]['#similar'].max()), marker=go.histogram.Marker(color='#724CF4'))\n",
    "# > 0.75\n",
    "trace3 = go.Histogram(name=\">0.75\", x=out_similar[2]['#similar'], nbinsx=int(out_similar[2]['#similar'].max()), marker=go.histogram.Marker(color='#45DA3E'))\n",
    "# < 0.75\n",
    "trace4 = go.Histogram(name=\"<0.75\", x=out_similar[3]['#similar'], nbinsx=int(out_similar[3]['#similar'].max()), marker=go.histogram.Marker(color='#F4D34C'))\n",
    "\n",
    "# update layout\n",
    "fig.append_trace(trace1, 1, 1)\n",
    "fig.append_trace(trace2, 1, 2)\n",
    "fig.append_trace(trace3, 2, 1)\n",
    "fig.append_trace(trace4, 2, 2)\n",
    "fig.update_layout(title=dict(text=\"Counts of molecules for each group of similar molecules at different similarity thr.\", font_size=14),\n",
    "                legend_title=\"similarity thr.\", width=750)\n",
    "# update x and y labels\n",
    "fig.layout.annotations[0].update(font_size=14)\n",
    "fig.layout.annotations[1].update(font_size=14)\n",
    "\n",
    "# configuration\n",
    "config = {'modeBarButtonsToRemove': ['logo', 'zoomin', 'zoomout', 'zoom', \n",
    "    'lasso', 'pan', 'autoscale', 'select'], 'displaylogo': False}\n",
    "\n",
    "# save and show \n",
    "fig.write_html(\"../Flask/pollutants_db_app/static/img/distribution_neighbors_similar_molecules.html\", config=config)\n",
    "fig.show(config=config)"
   ]
  },
  {
   "attachments": {},
   "cell_type": "markdown",
   "metadata": {},
   "source": [
    "##### Similarity assessment"
   ]
  },
  {
   "cell_type": "code",
   "execution_count": 393,
   "metadata": {},
   "outputs": [],
   "source": [
    "def similarity_assessment(data, thr1, thr2, n_perm=5, seed=SEED):\n",
    "    \"\"\"\n",
    "    this function \n",
    "    :param data: dataframe of molecules with associated targets and cid as index\n",
    "    :param g1: threshold for most similar molecules\n",
    "    :param g2: threshold for least similar molecules\n",
    "    :param seed: seed for reproducibility \n",
    "    :return: \n",
    "    \"\"\"\n",
    "\n",
    "    # seed the global RNG \n",
    "    random.seed(seed)\n",
    "    np.random.seed(seed)\n",
    "\n",
    "    # most similar molecules\n",
    "    top_similar = find_similar(data, threshold=thr1, seed=SEED)\n",
    "    print(\"Min. Similarity:\", top_similar.measure.min())\n",
    "    # construct set of edges\n",
    "    edges = list(set(top_similar[[\"orig_cid\", \"similar_cid\"]].astype(int).itertuples(index=False, name=None)))\n",
    "    # construct graph \n",
    "    G = nx.Graph()\n",
    "    G.add_edges_from(edges)\n",
    "    print(\"\\n#Nodes:\", len(G.nodes()), \"\\n#Edges:\", len(G.edges()))\n",
    "\n",
    "    # set targets as node attribute\n",
    "    targets = []\n",
    "    nx.set_node_attributes(G, targets, \"targets\")\n",
    "    for n in G.nodes:\n",
    "        G.nodes[n][\"targets\"] = data.Target_Symbol[data.index == n].values[0]\n",
    "\n",
    "    # least similar molecules\n",
    "    top_unsimilar = find_similar(data, threshold=thr2, similar=False, seed=SEED)\n",
    "    print(\"\\n\\nMin. Similarity:\", top_unsimilar.measure.min())\n",
    "    # construct set of edges\n",
    "    un_edges = list(set(top_unsimilar[[\"orig_cid\", \"similar_cid\"]].astype(int).itertuples(index=False, name=None)))\n",
    "    # construct graph \n",
    "    un_G = nx.Graph()\n",
    "    un_G.add_edges_from(un_edges)\n",
    "    print(\"\\n#Nodes:\", len(un_G.nodes()), \"\\n#Edges:\", len(un_G.edges()))\n",
    "\n",
    "    # set targets as node attribute\n",
    "    targets = []\n",
    "    nx.set_node_attributes(un_G, targets, \"targets\")\n",
    "    for n in un_G.nodes:\n",
    "        un_G.nodes[n][\"targets\"] = data.Target_Symbol[data.index == n].values[0]\n",
    "\n",
    "    stats = []\n",
    "    figures = []\n",
    "    for _ in range(n_perm):\n",
    "        \n",
    "        if len(G.edges) < len(un_G.edges):\n",
    "            G1 = G.copy()\n",
    "            # get same number of edges/pairs of molecules \n",
    "            selected_edges = random.sample(un_G.edges, len(G.edges))\n",
    "            # construct subgraph \n",
    "            G2 = un_G.edge_subgraph(selected_edges)\n",
    "\n",
    "        else:\n",
    "            G2 = un_G.copy()\n",
    "            # get same number of edges/pairs of molecules \n",
    "            selected_edges = random.sample(G.edges, len(un_G.edges))\n",
    "            # construct subgraph \n",
    "            G1 = G.edge_subgraph(selected_edges)\n",
    "            \n",
    "        # common targets between source molecule and similar molecules\n",
    "        visited_pair = []\n",
    "        similar_targets, similar_no_targets = 0, 0 \n",
    "        for n in G1.nodes:\n",
    "            # get similar molecules\n",
    "            neighbors_nodes = [n for _, n in G1.edges(n)]\n",
    "\n",
    "            for neigh in neighbors_nodes:\n",
    "                # add visited pair\n",
    "                visited_pair.append((n,neigh))\n",
    "\n",
    "                if not (neigh,n) in visited_pair:\n",
    "                    # check common targets\n",
    "                    if len(np.intersect1d(G1.nodes[n][\"targets\"], G1.nodes[neigh][\"targets\"])) > 0:\n",
    "                        similar_targets+=1\n",
    "                    else: similar_no_targets+=1\n",
    "\n",
    "        # common targets between source molecule and non similar molecules\n",
    "        visited_pair = []\n",
    "        no_similar_targets, no_similar_no_targets = 0, 0\n",
    "        for n in G2.nodes:\n",
    "            # get similar molecules\n",
    "            neighbors_nodes = [n for _, n in G2.edges(n)]\n",
    "\n",
    "            for neigh in neighbors_nodes:\n",
    "                # add visited pair\n",
    "                visited_pair.append((n,neigh))\n",
    "\n",
    "                if not (neigh,n) in visited_pair:\n",
    "                    # check common targets\n",
    "                    if len(np.intersect1d(G2.nodes[n][\"targets\"], G2.nodes[neigh][\"targets\"])) > 0:\n",
    "                        no_similar_targets+=1\n",
    "                    else: no_similar_no_targets+=1\n",
    "\n",
    "        # create a dataframe of booleans\n",
    "        dct = {\n",
    "            'similar': [True] * (similar_targets + similar_no_targets) + [False] * (no_similar_targets + no_similar_no_targets),\n",
    "            'targets': [True] * (similar_targets) + [False] * (similar_no_targets) + [True] * (no_similar_targets) + [False] * (no_similar_no_targets),\n",
    "        }\n",
    "        df = pd.DataFrame(dct)\n",
    "        \n",
    "        # construct the pivot table\n",
    "        pivot_table = pd.pivot_table(df, index='similar', columns='targets', aggfunc='size')\n",
    "        # re-format the pivot table into a contingency table\n",
    "        contingency_table = pivot_table.iloc[::-1, ::-1]\n",
    "        \n",
    "        # compute chi2 \n",
    "        chi2stats = sc.stats.chi2_contingency(contingency_table)\n",
    "        # compute odds ratio\n",
    "        oddsratio, pval = sc.stats.fisher_exact(contingency_table)\n",
    "        # output stats\n",
    "        stats.append((contingency_table, chi2stats, (oddsratio, pval)))\n",
    "\n",
    "        # plot contingency table and statistics\n",
    "        fig = px.imshow(contingency_table, text_auto=True, \n",
    "                    labels={'color': '#pairs'}, width=440, height=520,\n",
    "                    title=\"Chi-square test and odds ratio <br><sup><br>Chi2: \"+\n",
    "                    str(round(chi2stats[0], 2))+\", p-Value: \"+str(chi2stats[1])+\n",
    "                    \"<br>OddsR: \"+str(round(oddsratio, 2))+\", p-Value: \"+str(pval)+\n",
    "                    \"</sup><br>\", color_continuous_scale=px.colors.sequential.Viridis_r,)\n",
    "        fig.update_layout(title_x=0.2)\n",
    "        fig.update(layout_coloraxis_showscale=False)\n",
    "        # save figure\n",
    "        figures.append(fig)\n",
    "        \n",
    "    return stats, figures"
   ]
  },
  {
   "cell_type": "code",
   "execution_count": 394,
   "metadata": {},
   "outputs": [
    {
     "name": "stdout",
     "output_type": "stream",
     "text": [
      "Min. Similarity: 0.96\n",
      "\n",
      "#Nodes: 513 \n",
      "#Edges: 5080\n",
      "\n",
      "\n",
      "Min. Similarity: 0.192\n",
      "\n",
      "#Nodes: 535 \n",
      "#Edges: 48325\n"
     ]
    },
    {
     "data": {
      "text/plain": [
       "[(targets  True   False\n",
       "  similar              \n",
       "  True      2428   2652\n",
       "  False     2130   2950,\n",
       "  (35.09855049260756,\n",
       "   3.134340184591768e-09,\n",
       "   1,\n",
       "   array([[2279., 2801.],\n",
       "          [2279., 2801.]])),\n",
       "  (1.2679950998095157, 3.101515232351809e-09)),\n",
       " (targets  True   False\n",
       "  similar              \n",
       "  True      2428   2652\n",
       "  False     2182   2898,\n",
       "  (23.835922690586465,\n",
       "   1.0490627272581433e-06,\n",
       "   1,\n",
       "   array([[2305., 2775.],\n",
       "          [2305., 2775.]])),\n",
       "  (1.2159586248657257, 1.0440355978503634e-06)),\n",
       " (targets  True   False\n",
       "  similar              \n",
       "  True      2428   2652\n",
       "  False     2145   2935,\n",
       "  (31.623654158573345,\n",
       "   1.8713621578493866e-08,\n",
       "   1,\n",
       "   array([[2286.5, 2793.5],\n",
       "          [2286.5, 2793.5]])),\n",
       "  (1.2527256554405877, 1.855484027562807e-08)),\n",
       " (targets  True   False\n",
       "  similar              \n",
       "  True      2428   2652\n",
       "  False     2140   2940,\n",
       "  (32.761535117718836,\n",
       "   1.041861998563021e-08,\n",
       "   1,\n",
       "   array([[2284., 2796.],\n",
       "          [2284., 2796.]])),\n",
       "  (1.2577916860489702, 1.032367906171799e-08)),\n",
       " (targets  True   False\n",
       "  similar              \n",
       "  True      2428   2652\n",
       "  False     2172   2908,\n",
       "  (25.83101345010948,\n",
       "   3.726523421763732e-07,\n",
       "   1,\n",
       "   array([[2300., 2780.],\n",
       "          [2300., 2780.]])),\n",
       "  (1.225772133474441, 3.7055144268396167e-07)),\n",
       " (targets  True   False\n",
       "  similar              \n",
       "  True      2428   2652\n",
       "  False     2121   2959,\n",
       "  (37.27179900016608,\n",
       "   1.0275988938242436e-09,\n",
       "   1,\n",
       "   array([[2274.5, 2805.5],\n",
       "          [2274.5, 2805.5]])),\n",
       "  (1.2772604345114538, 1.0154499216316157e-09))]"
      ]
     },
     "execution_count": 394,
     "metadata": {},
     "output_type": "execute_result"
    }
   ],
   "source": [
    "# run statistics\n",
    "stats, figures = similarity_assessment(mol_targets, 0.96, 0.46, n_perm=6, seed=SEED)\n",
    "stats"
   ]
  },
  {
   "cell_type": "code",
   "execution_count": 395,
   "metadata": {},
   "outputs": [
    {
     "data": {
      "application/vnd.jupyter.widget-view+json": {
       "model_id": "4f66bd525fcf443aaf5fa45996a07f3d",
       "version_major": 2,
       "version_minor": 0
      },
      "text/plain": [
       "VBox(children=(HBox(children=(FigureWidget({\n",
       "    'data': [{'coloraxis': 'coloraxis',\n",
       "              'hovertempl…"
      ]
     },
     "metadata": {},
     "output_type": "display_data"
    }
   ],
   "source": [
    "# make subplots\n",
    "fig1 = []\n",
    "fig2 = []\n",
    "for i in range(int(len(figures)/2)): fig1.append(go.FigureWidget(figures[i].data, layout=figures[i].layout))\n",
    "for i in range(int(len(figures)/2), int(len(figures))): fig2.append(go.FigureWidget(figures[i].data, layout=figures[i].layout))\n",
    "widgets.VBox([widgets.HBox(fig1), widgets.HBox(fig2)])"
   ]
  },
  {
   "cell_type": "code",
   "execution_count": 396,
   "metadata": {},
   "outputs": [
    {
     "name": "stdout",
     "output_type": "stream",
     "text": [
      "Min. Similarity: 0.98\n",
      "\n",
      "#Nodes: 453 \n",
      "#Edges: 2805\n",
      "\n",
      "\n",
      "Min. Similarity: 0.192\n",
      "\n",
      "#Nodes: 535 \n",
      "#Edges: 40696\n"
     ]
    },
    {
     "data": {
      "text/plain": [
       "[(targets  True   False\n",
       "  similar              \n",
       "  True      1323   1482\n",
       "  False     1177   1628,\n",
       "  (15.170450160771704,\n",
       "   9.822862964293943e-05,\n",
       "   1,\n",
       "   array([[1250., 1555.],\n",
       "          [1250., 1555.]])),\n",
       "  (1.2347799765409209, 9.788072038362995e-05)),\n",
       " (targets  True   False\n",
       "  similar              \n",
       "  True      1323   1482\n",
       "  False     1211   1594,\n",
       "  (8.86779974402739,\n",
       "   0.002902447573614022,\n",
       "   1,\n",
       "   array([[1267., 1538.],\n",
       "          [1267., 1538.]])),\n",
       "  (1.1750485595937377, 0.002899027970587217)),\n",
       " (targets  True   False\n",
       "  similar              \n",
       "  True      1323   1482\n",
       "  False     1203   1602,\n",
       "  (10.197860538339018,\n",
       "   0.0014060368382486446,\n",
       "   1,\n",
       "   array([[1263., 1542.],\n",
       "          [1263., 1542.]])),\n",
       "  (1.1887992569184327, 0.0014038275083555147)),\n",
       " (targets  True   False\n",
       "  similar              \n",
       "  True      1323   1482\n",
       "  False     1204   1601,\n",
       "  (10.026471166221544,\n",
       "   0.00154306379222785,\n",
       "   1,\n",
       "   array([[1263.5, 1541.5],\n",
       "          [1263.5, 1541.5]])),\n",
       "  (1.187070426513511, 0.0015407221959561957)),\n",
       " (targets  True   False\n",
       "  similar              \n",
       "  True      1323   1482\n",
       "  False     1166   1639,\n",
       "  (17.574921451889114,\n",
       "   2.7620698802659035e-05,\n",
       "   1,\n",
       "   array([[1244.5, 1560.5],\n",
       "          [1244.5, 1560.5]])),\n",
       "  (1.2548506607593002, 2.748867541045973e-05)),\n",
       " (targets  True   False\n",
       "  similar              \n",
       "  True      1323   1482\n",
       "  False     1218   1587,\n",
       "  (7.780866901101505,\n",
       "   0.0052802453124957864,\n",
       "   1,\n",
       "   array([[1270.5, 1534.5],\n",
       "          [1270.5, 1534.5]])),\n",
       "  (1.1631648750523524, 0.005275500290634574))]"
      ]
     },
     "execution_count": 396,
     "metadata": {},
     "output_type": "execute_result"
    }
   ],
   "source": [
    "# run statistics\n",
    "stats, figures = similarity_assessment(mol_targets, 0.98, 0.44, n_perm=6, seed=SEED)\n",
    "stats"
   ]
  },
  {
   "cell_type": "code",
   "execution_count": 397,
   "metadata": {},
   "outputs": [
    {
     "data": {
      "application/vnd.jupyter.widget-view+json": {
       "model_id": "c00e3d09c3334f178c6810cfb29dd3db",
       "version_major": 2,
       "version_minor": 0
      },
      "text/plain": [
       "VBox(children=(HBox(children=(FigureWidget({\n",
       "    'data': [{'coloraxis': 'coloraxis',\n",
       "              'hovertempl…"
      ]
     },
     "metadata": {},
     "output_type": "display_data"
    }
   ],
   "source": [
    "# make subplots\n",
    "fig1 = []\n",
    "fig2 = []\n",
    "for i in range(int(len(figures)/2)): fig1.append(go.FigureWidget(figures[i].data, layout=figures[i].layout))\n",
    "for i in range(int(len(figures)/2), int(len(figures))): fig2.append(go.FigureWidget(figures[i].data, layout=figures[i].layout))\n",
    "widgets.VBox([widgets.HBox(fig1), widgets.HBox(fig2)])"
   ]
  },
  {
   "attachments": {},
   "cell_type": "markdown",
   "metadata": {},
   "source": [
    "The association between rows (similar) and columns (targets) is statistically significant. Once we have determined the probability that the two variables are related (using the Chi-square test), we explore their relationship in more detail with the odds ratio (is an event more or less likely to occur in one condition or another?).<br>\n",
    "The odds ratio is greater than 1, then being similar is considered to be associated with having common targets since being similar raises the odds of having common targets. Therefore, the group of similar molecules has slightly higher odds of having common targets than non similar molecules."
   ]
  }
 ],
 "metadata": {
  "kernelspec": {
   "display_name": "Python 3",
   "language": "python",
   "name": "python3"
  },
  "language_info": {
   "codemirror_mode": {
    "name": "ipython",
    "version": 3
   },
   "file_extension": ".py",
   "mimetype": "text/x-python",
   "name": "python",
   "nbconvert_exporter": "python",
   "pygments_lexer": "ipython3",
   "version": "3.10.4"
  },
  "orig_nbformat": 4,
  "vscode": {
   "interpreter": {
    "hash": "369f2c481f4da34e4445cda3fffd2e751bd1c4d706f27375911949ba6bb62e1c"
   }
  }
 },
 "nbformat": 4,
 "nbformat_minor": 2
}
